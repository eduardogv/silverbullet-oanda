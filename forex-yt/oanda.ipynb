{
 "cells": [
  {
   "cell_type": "code",
   "execution_count": 1,
   "metadata": {},
   "outputs": [
    {
     "name": "stderr",
     "output_type": "stream",
     "text": [
      "/Users/egrados/Library/Python/3.9/lib/python/site-packages/urllib3/__init__.py:34: NotOpenSSLWarning: urllib3 v2.0 only supports OpenSSL 1.1.1+, currently the 'ssl' module is compiled with 'LibreSSL 2.8.3'. See: https://github.com/urllib3/urllib3/issues/3020\n",
      "  warnings.warn(\n"
     ]
    }
   ],
   "source": [
    "import requests\n",
    "import pandas as pd\n",
    "import defs\n"
   ]
  },
  {
   "cell_type": "code",
   "execution_count": 2,
   "metadata": {},
   "outputs": [],
   "source": [
    "session = requests.Session()"
   ]
  },
  {
   "cell_type": "code",
   "execution_count": 3,
   "metadata": {},
   "outputs": [
    {
     "data": {
      "text/plain": [
       "'https://api-fxpractice.oanda.com/v3'"
      ]
     },
     "execution_count": 3,
     "metadata": {},
     "output_type": "execute_result"
    }
   ],
   "source": [
    "instrument = \"EUR_USD\"\n",
    "count = 10\n",
    "granularity = \"H1\"\n",
    "defs.OANDA_URL"
   ]
  },
  {
   "cell_type": "code",
   "execution_count": 4,
   "metadata": {},
   "outputs": [
    {
     "data": {
      "text/plain": [
       "'https://api-fxpractice.oanda.com/v3/instruments/EUR_USD/candles'"
      ]
     },
     "execution_count": 4,
     "metadata": {},
     "output_type": "execute_result"
    }
   ],
   "source": [
    "url = f\"{defs.OANDA_URL}/instruments/{instrument}/candles\"\n",
    "url"
   ]
  },
  {
   "cell_type": "code",
   "execution_count": 5,
   "metadata": {},
   "outputs": [],
   "source": [
    "params = dict(\n",
    "    count = count,\n",
    "    granularity = granularity,\n",
    "    price = \"MBA\"\n",
    ")"
   ]
  },
  {
   "cell_type": "code",
   "execution_count": 6,
   "metadata": {},
   "outputs": [],
   "source": [
    "response = session.get(url, params=params, headers=defs.SECURE_HEADER)"
   ]
  },
  {
   "cell_type": "code",
   "execution_count": 7,
   "metadata": {},
   "outputs": [
    {
     "data": {
      "text/plain": [
       "{'instrument': 'EUR_USD',\n",
       " 'granularity': 'H1',\n",
       " 'candles': [{'complete': True,\n",
       "   'volume': 842,\n",
       "   'time': '2024-06-24T20:00:00.000000000Z',\n",
       "   'bid': {'o': '1.07351', 'h': '1.07366', 'l': '1.07326', 'c': '1.07329'},\n",
       "   'mid': {'o': '1.07358', 'h': '1.07374', 'l': '1.07336', 'c': '1.07338'},\n",
       "   'ask': {'o': '1.07365', 'h': '1.07381', 'l': '1.07347', 'c': '1.07347'}},\n",
       "  {'complete': True,\n",
       "   'volume': 382,\n",
       "   'time': '2024-06-24T21:00:00.000000000Z',\n",
       "   'bid': {'o': '1.07311', 'h': '1.07336', 'l': '1.07308', 'c': '1.07327'},\n",
       "   'mid': {'o': '1.07324', 'h': '1.07346', 'l': '1.07324', 'c': '1.07336'},\n",
       "   'ask': {'o': '1.07338', 'h': '1.07359', 'l': '1.07338', 'c': '1.07346'}},\n",
       "  {'complete': True,\n",
       "   'volume': 435,\n",
       "   'time': '2024-06-24T22:00:00.000000000Z',\n",
       "   'bid': {'o': '1.07324', 'h': '1.07339', 'l': '1.07312', 'c': '1.07322'},\n",
       "   'mid': {'o': '1.07334', 'h': '1.07346', 'l': '1.07324', 'c': '1.07330'},\n",
       "   'ask': {'o': '1.07343', 'h': '1.07355', 'l': '1.07336', 'c': '1.07337'}},\n",
       "  {'complete': True,\n",
       "   'volume': 677,\n",
       "   'time': '2024-06-24T23:00:00.000000000Z',\n",
       "   'bid': {'o': '1.07321', 'h': '1.07324', 'l': '1.07300', 'c': '1.07315'},\n",
       "   'mid': {'o': '1.07329', 'h': '1.07331', 'l': '1.07308', 'c': '1.07322'},\n",
       "   'ask': {'o': '1.07337', 'h': '1.07338', 'l': '1.07316', 'c': '1.07330'}},\n",
       "  {'complete': True,\n",
       "   'volume': 1817,\n",
       "   'time': '2024-06-25T00:00:00.000000000Z',\n",
       "   'bid': {'o': '1.07313', 'h': '1.07350', 'l': '1.07312', 'c': '1.07334'},\n",
       "   'mid': {'o': '1.07321', 'h': '1.07358', 'l': '1.07320', 'c': '1.07341'},\n",
       "   'ask': {'o': '1.07329', 'h': '1.07365', 'l': '1.07327', 'c': '1.07348'}},\n",
       "  {'complete': True,\n",
       "   'volume': 1935,\n",
       "   'time': '2024-06-25T01:00:00.000000000Z',\n",
       "   'bid': {'o': '1.07332', 'h': '1.07353', 'l': '1.07316', 'c': '1.07338'},\n",
       "   'mid': {'o': '1.07340', 'h': '1.07360', 'l': '1.07323', 'c': '1.07346'},\n",
       "   'ask': {'o': '1.07347', 'h': '1.07368', 'l': '1.07330', 'c': '1.07353'}},\n",
       "  {'complete': True,\n",
       "   'volume': 1404,\n",
       "   'time': '2024-06-25T02:00:00.000000000Z',\n",
       "   'bid': {'o': '1.07340', 'h': '1.07363', 'l': '1.07332', 'c': '1.07363'},\n",
       "   'mid': {'o': '1.07347', 'h': '1.07370', 'l': '1.07340', 'c': '1.07370'},\n",
       "   'ask': {'o': '1.07354', 'h': '1.07378', 'l': '1.07347', 'c': '1.07378'}},\n",
       "  {'complete': True,\n",
       "   'volume': 1564,\n",
       "   'time': '2024-06-25T03:00:00.000000000Z',\n",
       "   'bid': {'o': '1.07363', 'h': '1.07389', 'l': '1.07351', 'c': '1.07379'},\n",
       "   'mid': {'o': '1.07370', 'h': '1.07396', 'l': '1.07358', 'c': '1.07386'},\n",
       "   'ask': {'o': '1.07377', 'h': '1.07404', 'l': '1.07366', 'c': '1.07393'}},\n",
       "  {'complete': True,\n",
       "   'volume': 1015,\n",
       "   'time': '2024-06-25T04:00:00.000000000Z',\n",
       "   'bid': {'o': '1.07376', 'h': '1.07395', 'l': '1.07358', 'c': '1.07389'},\n",
       "   'mid': {'o': '1.07383', 'h': '1.07402', 'l': '1.07366', 'c': '1.07396'},\n",
       "   'ask': {'o': '1.07390', 'h': '1.07409', 'l': '1.07373', 'c': '1.07404'}},\n",
       "  {'complete': False,\n",
       "   'volume': 491,\n",
       "   'time': '2024-06-25T05:00:00.000000000Z',\n",
       "   'bid': {'o': '1.07390', 'h': '1.07436', 'l': '1.07387', 'c': '1.07427'},\n",
       "   'mid': {'o': '1.07397', 'h': '1.07444', 'l': '1.07394', 'c': '1.07434'},\n",
       "   'ask': {'o': '1.07404', 'h': '1.07451', 'l': '1.07402', 'c': '1.07442'}}]}"
      ]
     },
     "execution_count": 7,
     "metadata": {},
     "output_type": "execute_result"
    }
   ],
   "source": [
    "response.json()"
   ]
  },
  {
   "cell_type": "code",
   "execution_count": 8,
   "metadata": {},
   "outputs": [
    {
     "data": {
      "text/plain": [
       "dict_keys(['instrument', 'granularity', 'candles'])"
      ]
     },
     "execution_count": 8,
     "metadata": {},
     "output_type": "execute_result"
    }
   ],
   "source": [
    "data = response.json()\n",
    "data.keys()"
   ]
  },
  {
   "cell_type": "code",
   "execution_count": 9,
   "metadata": {},
   "outputs": [
    {
     "data": {
      "text/plain": [
       "3"
      ]
     },
     "execution_count": 9,
     "metadata": {},
     "output_type": "execute_result"
    }
   ],
   "source": [
    "len(data.keys())"
   ]
  },
  {
   "cell_type": "code",
   "execution_count": 10,
   "metadata": {},
   "outputs": [
    {
     "data": {
      "text/plain": [
       "10"
      ]
     },
     "execution_count": 10,
     "metadata": {},
     "output_type": "execute_result"
    }
   ],
   "source": [
    "len(data[\"candles\"])"
   ]
  },
  {
   "cell_type": "code",
   "execution_count": 11,
   "metadata": {},
   "outputs": [],
   "source": [
    "prices = [\"mid\", \"bid\", \"ask\"]\n",
    "ohlc = [\"o\", \"h\", \"l\", \"c\"]"
   ]
  },
  {
   "cell_type": "code",
   "execution_count": 12,
   "metadata": {},
   "outputs": [
    {
     "name": "stdout",
     "output_type": "stream",
     "text": [
      "{'time': '2024-06-24T20:00:00.000000000Z', 'volume': 842, 'mid_o': '1.07358', 'mid_h': '1.07374', 'mid_l': '1.07336', 'mid_c': '1.07338', 'bid_o': '1.07351', 'bid_h': '1.07366', 'bid_l': '1.07326', 'bid_c': '1.07329', 'ask_o': '1.07365', 'ask_h': '1.07381', 'ask_l': '1.07347', 'ask_c': '1.07347'}\n"
     ]
    }
   ],
   "source": [
    "our_data = []\n",
    "\n",
    "for candle in data[\"candles\"]:\n",
    "    if candle[\"complete\"] == False:\n",
    "        continue\n",
    "    new_dict = {}\n",
    "    new_dict[\"time\"] = candle[\"time\"]\n",
    "    new_dict[\"volume\"] = candle[\"volume\"]\n",
    "    for price in prices:\n",
    "        for oh in ohlc:\n",
    "            new_dict[f\"{price}_{oh}\"] = candle[price][oh]\n",
    "    our_data.append(new_dict)\n",
    "\n",
    "print (our_data[0])"
   ]
  },
  {
   "cell_type": "code",
   "execution_count": 13,
   "metadata": {},
   "outputs": [
    {
     "data": {
      "text/html": [
       "<div>\n",
       "<style scoped>\n",
       "    .dataframe tbody tr th:only-of-type {\n",
       "        vertical-align: middle;\n",
       "    }\n",
       "\n",
       "    .dataframe tbody tr th {\n",
       "        vertical-align: top;\n",
       "    }\n",
       "\n",
       "    .dataframe thead th {\n",
       "        text-align: right;\n",
       "    }\n",
       "</style>\n",
       "<table border=\"1\" class=\"dataframe\">\n",
       "  <thead>\n",
       "    <tr style=\"text-align: right;\">\n",
       "      <th></th>\n",
       "      <th>time</th>\n",
       "      <th>volume</th>\n",
       "      <th>mid_o</th>\n",
       "      <th>mid_h</th>\n",
       "      <th>mid_l</th>\n",
       "      <th>mid_c</th>\n",
       "      <th>bid_o</th>\n",
       "      <th>bid_h</th>\n",
       "      <th>bid_l</th>\n",
       "      <th>bid_c</th>\n",
       "      <th>ask_o</th>\n",
       "      <th>ask_h</th>\n",
       "      <th>ask_l</th>\n",
       "      <th>ask_c</th>\n",
       "    </tr>\n",
       "  </thead>\n",
       "  <tbody>\n",
       "    <tr>\n",
       "      <th>0</th>\n",
       "      <td>2024-06-24T20:00:00.000000000Z</td>\n",
       "      <td>842</td>\n",
       "      <td>1.07358</td>\n",
       "      <td>1.07374</td>\n",
       "      <td>1.07336</td>\n",
       "      <td>1.07338</td>\n",
       "      <td>1.07351</td>\n",
       "      <td>1.07366</td>\n",
       "      <td>1.07326</td>\n",
       "      <td>1.07329</td>\n",
       "      <td>1.07365</td>\n",
       "      <td>1.07381</td>\n",
       "      <td>1.07347</td>\n",
       "      <td>1.07347</td>\n",
       "    </tr>\n",
       "    <tr>\n",
       "      <th>1</th>\n",
       "      <td>2024-06-24T21:00:00.000000000Z</td>\n",
       "      <td>382</td>\n",
       "      <td>1.07324</td>\n",
       "      <td>1.07346</td>\n",
       "      <td>1.07324</td>\n",
       "      <td>1.07336</td>\n",
       "      <td>1.07311</td>\n",
       "      <td>1.07336</td>\n",
       "      <td>1.07308</td>\n",
       "      <td>1.07327</td>\n",
       "      <td>1.07338</td>\n",
       "      <td>1.07359</td>\n",
       "      <td>1.07338</td>\n",
       "      <td>1.07346</td>\n",
       "    </tr>\n",
       "    <tr>\n",
       "      <th>2</th>\n",
       "      <td>2024-06-24T22:00:00.000000000Z</td>\n",
       "      <td>435</td>\n",
       "      <td>1.07334</td>\n",
       "      <td>1.07346</td>\n",
       "      <td>1.07324</td>\n",
       "      <td>1.07330</td>\n",
       "      <td>1.07324</td>\n",
       "      <td>1.07339</td>\n",
       "      <td>1.07312</td>\n",
       "      <td>1.07322</td>\n",
       "      <td>1.07343</td>\n",
       "      <td>1.07355</td>\n",
       "      <td>1.07336</td>\n",
       "      <td>1.07337</td>\n",
       "    </tr>\n",
       "    <tr>\n",
       "      <th>3</th>\n",
       "      <td>2024-06-24T23:00:00.000000000Z</td>\n",
       "      <td>677</td>\n",
       "      <td>1.07329</td>\n",
       "      <td>1.07331</td>\n",
       "      <td>1.07308</td>\n",
       "      <td>1.07322</td>\n",
       "      <td>1.07321</td>\n",
       "      <td>1.07324</td>\n",
       "      <td>1.07300</td>\n",
       "      <td>1.07315</td>\n",
       "      <td>1.07337</td>\n",
       "      <td>1.07338</td>\n",
       "      <td>1.07316</td>\n",
       "      <td>1.07330</td>\n",
       "    </tr>\n",
       "    <tr>\n",
       "      <th>4</th>\n",
       "      <td>2024-06-25T00:00:00.000000000Z</td>\n",
       "      <td>1817</td>\n",
       "      <td>1.07321</td>\n",
       "      <td>1.07358</td>\n",
       "      <td>1.07320</td>\n",
       "      <td>1.07341</td>\n",
       "      <td>1.07313</td>\n",
       "      <td>1.07350</td>\n",
       "      <td>1.07312</td>\n",
       "      <td>1.07334</td>\n",
       "      <td>1.07329</td>\n",
       "      <td>1.07365</td>\n",
       "      <td>1.07327</td>\n",
       "      <td>1.07348</td>\n",
       "    </tr>\n",
       "    <tr>\n",
       "      <th>5</th>\n",
       "      <td>2024-06-25T01:00:00.000000000Z</td>\n",
       "      <td>1935</td>\n",
       "      <td>1.07340</td>\n",
       "      <td>1.07360</td>\n",
       "      <td>1.07323</td>\n",
       "      <td>1.07346</td>\n",
       "      <td>1.07332</td>\n",
       "      <td>1.07353</td>\n",
       "      <td>1.07316</td>\n",
       "      <td>1.07338</td>\n",
       "      <td>1.07347</td>\n",
       "      <td>1.07368</td>\n",
       "      <td>1.07330</td>\n",
       "      <td>1.07353</td>\n",
       "    </tr>\n",
       "    <tr>\n",
       "      <th>6</th>\n",
       "      <td>2024-06-25T02:00:00.000000000Z</td>\n",
       "      <td>1404</td>\n",
       "      <td>1.07347</td>\n",
       "      <td>1.07370</td>\n",
       "      <td>1.07340</td>\n",
       "      <td>1.07370</td>\n",
       "      <td>1.07340</td>\n",
       "      <td>1.07363</td>\n",
       "      <td>1.07332</td>\n",
       "      <td>1.07363</td>\n",
       "      <td>1.07354</td>\n",
       "      <td>1.07378</td>\n",
       "      <td>1.07347</td>\n",
       "      <td>1.07378</td>\n",
       "    </tr>\n",
       "    <tr>\n",
       "      <th>7</th>\n",
       "      <td>2024-06-25T03:00:00.000000000Z</td>\n",
       "      <td>1564</td>\n",
       "      <td>1.07370</td>\n",
       "      <td>1.07396</td>\n",
       "      <td>1.07358</td>\n",
       "      <td>1.07386</td>\n",
       "      <td>1.07363</td>\n",
       "      <td>1.07389</td>\n",
       "      <td>1.07351</td>\n",
       "      <td>1.07379</td>\n",
       "      <td>1.07377</td>\n",
       "      <td>1.07404</td>\n",
       "      <td>1.07366</td>\n",
       "      <td>1.07393</td>\n",
       "    </tr>\n",
       "    <tr>\n",
       "      <th>8</th>\n",
       "      <td>2024-06-25T04:00:00.000000000Z</td>\n",
       "      <td>1015</td>\n",
       "      <td>1.07383</td>\n",
       "      <td>1.07402</td>\n",
       "      <td>1.07366</td>\n",
       "      <td>1.07396</td>\n",
       "      <td>1.07376</td>\n",
       "      <td>1.07395</td>\n",
       "      <td>1.07358</td>\n",
       "      <td>1.07389</td>\n",
       "      <td>1.07390</td>\n",
       "      <td>1.07409</td>\n",
       "      <td>1.07373</td>\n",
       "      <td>1.07404</td>\n",
       "    </tr>\n",
       "  </tbody>\n",
       "</table>\n",
       "</div>"
      ],
      "text/plain": [
       "                             time  volume    mid_o    mid_h    mid_l    mid_c  \\\n",
       "0  2024-06-24T20:00:00.000000000Z     842  1.07358  1.07374  1.07336  1.07338   \n",
       "1  2024-06-24T21:00:00.000000000Z     382  1.07324  1.07346  1.07324  1.07336   \n",
       "2  2024-06-24T22:00:00.000000000Z     435  1.07334  1.07346  1.07324  1.07330   \n",
       "3  2024-06-24T23:00:00.000000000Z     677  1.07329  1.07331  1.07308  1.07322   \n",
       "4  2024-06-25T00:00:00.000000000Z    1817  1.07321  1.07358  1.07320  1.07341   \n",
       "5  2024-06-25T01:00:00.000000000Z    1935  1.07340  1.07360  1.07323  1.07346   \n",
       "6  2024-06-25T02:00:00.000000000Z    1404  1.07347  1.07370  1.07340  1.07370   \n",
       "7  2024-06-25T03:00:00.000000000Z    1564  1.07370  1.07396  1.07358  1.07386   \n",
       "8  2024-06-25T04:00:00.000000000Z    1015  1.07383  1.07402  1.07366  1.07396   \n",
       "\n",
       "     bid_o    bid_h    bid_l    bid_c    ask_o    ask_h    ask_l    ask_c  \n",
       "0  1.07351  1.07366  1.07326  1.07329  1.07365  1.07381  1.07347  1.07347  \n",
       "1  1.07311  1.07336  1.07308  1.07327  1.07338  1.07359  1.07338  1.07346  \n",
       "2  1.07324  1.07339  1.07312  1.07322  1.07343  1.07355  1.07336  1.07337  \n",
       "3  1.07321  1.07324  1.07300  1.07315  1.07337  1.07338  1.07316  1.07330  \n",
       "4  1.07313  1.07350  1.07312  1.07334  1.07329  1.07365  1.07327  1.07348  \n",
       "5  1.07332  1.07353  1.07316  1.07338  1.07347  1.07368  1.07330  1.07353  \n",
       "6  1.07340  1.07363  1.07332  1.07363  1.07354  1.07378  1.07347  1.07378  \n",
       "7  1.07363  1.07389  1.07351  1.07379  1.07377  1.07404  1.07366  1.07393  \n",
       "8  1.07376  1.07395  1.07358  1.07389  1.07390  1.07409  1.07373  1.07404  "
      ]
     },
     "execution_count": 13,
     "metadata": {},
     "output_type": "execute_result"
    }
   ],
   "source": [
    "candles_df = pd.DataFrame.from_dict(our_data)\n",
    "candles_df"
   ]
  },
  {
   "cell_type": "code",
   "execution_count": 14,
   "metadata": {},
   "outputs": [],
   "source": [
    "candles_df.to_pickle(\"EUR_USD_H1.pkl\")\n"
   ]
  },
  {
   "cell_type": "code",
   "execution_count": 15,
   "metadata": {},
   "outputs": [
    {
     "data": {
      "text/html": [
       "<div>\n",
       "<style scoped>\n",
       "    .dataframe tbody tr th:only-of-type {\n",
       "        vertical-align: middle;\n",
       "    }\n",
       "\n",
       "    .dataframe tbody tr th {\n",
       "        vertical-align: top;\n",
       "    }\n",
       "\n",
       "    .dataframe thead th {\n",
       "        text-align: right;\n",
       "    }\n",
       "</style>\n",
       "<table border=\"1\" class=\"dataframe\">\n",
       "  <thead>\n",
       "    <tr style=\"text-align: right;\">\n",
       "      <th></th>\n",
       "      <th>time</th>\n",
       "      <th>volume</th>\n",
       "      <th>mid_o</th>\n",
       "      <th>mid_h</th>\n",
       "      <th>mid_l</th>\n",
       "      <th>mid_c</th>\n",
       "      <th>bid_o</th>\n",
       "      <th>bid_h</th>\n",
       "      <th>bid_l</th>\n",
       "      <th>bid_c</th>\n",
       "      <th>ask_o</th>\n",
       "      <th>ask_h</th>\n",
       "      <th>ask_l</th>\n",
       "      <th>ask_c</th>\n",
       "    </tr>\n",
       "  </thead>\n",
       "  <tbody>\n",
       "    <tr>\n",
       "      <th>0</th>\n",
       "      <td>2024-06-24T20:00:00.000000000Z</td>\n",
       "      <td>842</td>\n",
       "      <td>1.07358</td>\n",
       "      <td>1.07374</td>\n",
       "      <td>1.07336</td>\n",
       "      <td>1.07338</td>\n",
       "      <td>1.07351</td>\n",
       "      <td>1.07366</td>\n",
       "      <td>1.07326</td>\n",
       "      <td>1.07329</td>\n",
       "      <td>1.07365</td>\n",
       "      <td>1.07381</td>\n",
       "      <td>1.07347</td>\n",
       "      <td>1.07347</td>\n",
       "    </tr>\n",
       "    <tr>\n",
       "      <th>1</th>\n",
       "      <td>2024-06-24T21:00:00.000000000Z</td>\n",
       "      <td>382</td>\n",
       "      <td>1.07324</td>\n",
       "      <td>1.07346</td>\n",
       "      <td>1.07324</td>\n",
       "      <td>1.07336</td>\n",
       "      <td>1.07311</td>\n",
       "      <td>1.07336</td>\n",
       "      <td>1.07308</td>\n",
       "      <td>1.07327</td>\n",
       "      <td>1.07338</td>\n",
       "      <td>1.07359</td>\n",
       "      <td>1.07338</td>\n",
       "      <td>1.07346</td>\n",
       "    </tr>\n",
       "    <tr>\n",
       "      <th>2</th>\n",
       "      <td>2024-06-24T22:00:00.000000000Z</td>\n",
       "      <td>435</td>\n",
       "      <td>1.07334</td>\n",
       "      <td>1.07346</td>\n",
       "      <td>1.07324</td>\n",
       "      <td>1.07330</td>\n",
       "      <td>1.07324</td>\n",
       "      <td>1.07339</td>\n",
       "      <td>1.07312</td>\n",
       "      <td>1.07322</td>\n",
       "      <td>1.07343</td>\n",
       "      <td>1.07355</td>\n",
       "      <td>1.07336</td>\n",
       "      <td>1.07337</td>\n",
       "    </tr>\n",
       "    <tr>\n",
       "      <th>3</th>\n",
       "      <td>2024-06-24T23:00:00.000000000Z</td>\n",
       "      <td>677</td>\n",
       "      <td>1.07329</td>\n",
       "      <td>1.07331</td>\n",
       "      <td>1.07308</td>\n",
       "      <td>1.07322</td>\n",
       "      <td>1.07321</td>\n",
       "      <td>1.07324</td>\n",
       "      <td>1.07300</td>\n",
       "      <td>1.07315</td>\n",
       "      <td>1.07337</td>\n",
       "      <td>1.07338</td>\n",
       "      <td>1.07316</td>\n",
       "      <td>1.07330</td>\n",
       "    </tr>\n",
       "    <tr>\n",
       "      <th>4</th>\n",
       "      <td>2024-06-25T00:00:00.000000000Z</td>\n",
       "      <td>1817</td>\n",
       "      <td>1.07321</td>\n",
       "      <td>1.07358</td>\n",
       "      <td>1.07320</td>\n",
       "      <td>1.07341</td>\n",
       "      <td>1.07313</td>\n",
       "      <td>1.07350</td>\n",
       "      <td>1.07312</td>\n",
       "      <td>1.07334</td>\n",
       "      <td>1.07329</td>\n",
       "      <td>1.07365</td>\n",
       "      <td>1.07327</td>\n",
       "      <td>1.07348</td>\n",
       "    </tr>\n",
       "    <tr>\n",
       "      <th>5</th>\n",
       "      <td>2024-06-25T01:00:00.000000000Z</td>\n",
       "      <td>1935</td>\n",
       "      <td>1.07340</td>\n",
       "      <td>1.07360</td>\n",
       "      <td>1.07323</td>\n",
       "      <td>1.07346</td>\n",
       "      <td>1.07332</td>\n",
       "      <td>1.07353</td>\n",
       "      <td>1.07316</td>\n",
       "      <td>1.07338</td>\n",
       "      <td>1.07347</td>\n",
       "      <td>1.07368</td>\n",
       "      <td>1.07330</td>\n",
       "      <td>1.07353</td>\n",
       "    </tr>\n",
       "    <tr>\n",
       "      <th>6</th>\n",
       "      <td>2024-06-25T02:00:00.000000000Z</td>\n",
       "      <td>1404</td>\n",
       "      <td>1.07347</td>\n",
       "      <td>1.07370</td>\n",
       "      <td>1.07340</td>\n",
       "      <td>1.07370</td>\n",
       "      <td>1.07340</td>\n",
       "      <td>1.07363</td>\n",
       "      <td>1.07332</td>\n",
       "      <td>1.07363</td>\n",
       "      <td>1.07354</td>\n",
       "      <td>1.07378</td>\n",
       "      <td>1.07347</td>\n",
       "      <td>1.07378</td>\n",
       "    </tr>\n",
       "    <tr>\n",
       "      <th>7</th>\n",
       "      <td>2024-06-25T03:00:00.000000000Z</td>\n",
       "      <td>1564</td>\n",
       "      <td>1.07370</td>\n",
       "      <td>1.07396</td>\n",
       "      <td>1.07358</td>\n",
       "      <td>1.07386</td>\n",
       "      <td>1.07363</td>\n",
       "      <td>1.07389</td>\n",
       "      <td>1.07351</td>\n",
       "      <td>1.07379</td>\n",
       "      <td>1.07377</td>\n",
       "      <td>1.07404</td>\n",
       "      <td>1.07366</td>\n",
       "      <td>1.07393</td>\n",
       "    </tr>\n",
       "    <tr>\n",
       "      <th>8</th>\n",
       "      <td>2024-06-25T04:00:00.000000000Z</td>\n",
       "      <td>1015</td>\n",
       "      <td>1.07383</td>\n",
       "      <td>1.07402</td>\n",
       "      <td>1.07366</td>\n",
       "      <td>1.07396</td>\n",
       "      <td>1.07376</td>\n",
       "      <td>1.07395</td>\n",
       "      <td>1.07358</td>\n",
       "      <td>1.07389</td>\n",
       "      <td>1.07390</td>\n",
       "      <td>1.07409</td>\n",
       "      <td>1.07373</td>\n",
       "      <td>1.07404</td>\n",
       "    </tr>\n",
       "  </tbody>\n",
       "</table>\n",
       "</div>"
      ],
      "text/plain": [
       "                             time  volume    mid_o    mid_h    mid_l    mid_c  \\\n",
       "0  2024-06-24T20:00:00.000000000Z     842  1.07358  1.07374  1.07336  1.07338   \n",
       "1  2024-06-24T21:00:00.000000000Z     382  1.07324  1.07346  1.07324  1.07336   \n",
       "2  2024-06-24T22:00:00.000000000Z     435  1.07334  1.07346  1.07324  1.07330   \n",
       "3  2024-06-24T23:00:00.000000000Z     677  1.07329  1.07331  1.07308  1.07322   \n",
       "4  2024-06-25T00:00:00.000000000Z    1817  1.07321  1.07358  1.07320  1.07341   \n",
       "5  2024-06-25T01:00:00.000000000Z    1935  1.07340  1.07360  1.07323  1.07346   \n",
       "6  2024-06-25T02:00:00.000000000Z    1404  1.07347  1.07370  1.07340  1.07370   \n",
       "7  2024-06-25T03:00:00.000000000Z    1564  1.07370  1.07396  1.07358  1.07386   \n",
       "8  2024-06-25T04:00:00.000000000Z    1015  1.07383  1.07402  1.07366  1.07396   \n",
       "\n",
       "     bid_o    bid_h    bid_l    bid_c    ask_o    ask_h    ask_l    ask_c  \n",
       "0  1.07351  1.07366  1.07326  1.07329  1.07365  1.07381  1.07347  1.07347  \n",
       "1  1.07311  1.07336  1.07308  1.07327  1.07338  1.07359  1.07338  1.07346  \n",
       "2  1.07324  1.07339  1.07312  1.07322  1.07343  1.07355  1.07336  1.07337  \n",
       "3  1.07321  1.07324  1.07300  1.07315  1.07337  1.07338  1.07316  1.07330  \n",
       "4  1.07313  1.07350  1.07312  1.07334  1.07329  1.07365  1.07327  1.07348  \n",
       "5  1.07332  1.07353  1.07316  1.07338  1.07347  1.07368  1.07330  1.07353  \n",
       "6  1.07340  1.07363  1.07332  1.07363  1.07354  1.07378  1.07347  1.07378  \n",
       "7  1.07363  1.07389  1.07351  1.07379  1.07377  1.07404  1.07366  1.07393  \n",
       "8  1.07376  1.07395  1.07358  1.07389  1.07390  1.07409  1.07373  1.07404  "
      ]
     },
     "execution_count": 15,
     "metadata": {},
     "output_type": "execute_result"
    }
   ],
   "source": [
    "test_df = pd.read_pickle(\"EUR_USD_H1.pkl\")\n",
    "test_df"
   ]
  },
  {
   "cell_type": "code",
   "execution_count": null,
   "metadata": {},
   "outputs": [],
   "source": []
  },
  {
   "cell_type": "code",
   "execution_count": null,
   "metadata": {},
   "outputs": [],
   "source": []
  },
  {
   "cell_type": "code",
   "execution_count": null,
   "metadata": {},
   "outputs": [],
   "source": []
  },
  {
   "cell_type": "code",
   "execution_count": null,
   "metadata": {},
   "outputs": [],
   "source": []
  },
  {
   "cell_type": "code",
   "execution_count": null,
   "metadata": {},
   "outputs": [],
   "source": []
  },
  {
   "cell_type": "code",
   "execution_count": null,
   "metadata": {},
   "outputs": [],
   "source": []
  },
  {
   "cell_type": "code",
   "execution_count": null,
   "metadata": {},
   "outputs": [],
   "source": []
  },
  {
   "cell_type": "code",
   "execution_count": null,
   "metadata": {},
   "outputs": [],
   "source": []
  },
  {
   "cell_type": "code",
   "execution_count": null,
   "metadata": {},
   "outputs": [],
   "source": []
  }
 ],
 "metadata": {
  "kernelspec": {
   "display_name": "Python 3",
   "language": "python",
   "name": "python3"
  },
  "language_info": {
   "codemirror_mode": {
    "name": "ipython",
    "version": 3
   },
   "file_extension": ".py",
   "mimetype": "text/x-python",
   "name": "python",
   "nbconvert_exporter": "python",
   "pygments_lexer": "ipython3",
   "version": "3.9.6"
  }
 },
 "nbformat": 4,
 "nbformat_minor": 2
}
