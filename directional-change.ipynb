{
 "cells": [
  {
   "cell_type": "markdown",
   "metadata": {},
   "source": [
    "### Implementation of directinal change algorithm"
   ]
  },
  {
   "cell_type": "code",
   "execution_count": 1,
   "metadata": {},
   "outputs": [],
   "source": [
    "import numpy as np\n",
    "import pandas as pd\n"
   ]
  },
  {
   "cell_type": "markdown",
   "metadata": {},
   "source": [
    "Cuando el precio CIERRA por debajo de la linea de cambio (azul) se produce el cambio de direccion, se confirma un HIGH y ahora se busca un LOW.\n",
    "No me dda un tiempo estimado para confirma unhigh o bottom, es decir el lag siempre variara."
   ]
  },
  {
   "cell_type": "code",
   "execution_count": 7,
   "metadata": {},
   "outputs": [],
   "source": [
    "def directional_change(close:np.array, high:np.array, low:np.array, sigma: float):\n",
    "#def directional_change(df, sigma: float):\n",
    "   # conversion previa\n",
    "\n",
    "   \n",
    "\n",
    "   up_zig = True #Last extreme is a bottom. Next is a top. Direccion del sigma\n",
    "   \n",
    "   # Keep track of the current index in price . ORANGE CANDLE\n",
    "   temporary_max = high[0]\n",
    "   temporary_min = low[0]\n",
    "   temporary_max_index = 0\n",
    "   temporary_min_index = 0\n",
    "\n",
    "   tops = []\n",
    "   bottoms = []\n",
    "\n",
    "   for  current_candle_close_index in range (len(close)):\n",
    "      if up_zig: # Last extreme is a bottom\n",
    "         if high[current_candle_close_index] > temporary_max: \n",
    "            # New high update\n",
    "            temporary_max = high[current_candle_close_index]\n",
    "            temporary_max_index = current_candle_close_index\n",
    "         elif close[current_candle_close_index] < temporary_max - temporary_max*sigma:\n",
    "            # Price retraced by sigma%. Top confirmed, recod it\n",
    "            # top[0] = confirmation index\n",
    "            # top[1] = index of top\n",
    "            # top[2] = price of top\n",
    "            top = [current_candle_close_index, temporary_max_index, temporary_max]\n",
    "            tops.append(top)\n",
    "\n",
    "            # Setup for next bottom\n",
    "            up_zig = False\n",
    "            temporary_min = low[current_candle_close_index]\n",
    "            temporary_min_index = current_candle_close_index\n",
    "      else: # Last extreme is a top\n",
    "         if low[current_candle_close_index] < temporary_min:\n",
    "            # New low, update\n",
    "            temporary_min = low[current_candle_close_index]\n",
    "            temporary_min_index = current_candle_close_index\n",
    "         elif close[current_candle_close_index] > temporary_min + temporary_min*sigma:\n",
    "            # Price retraced by sigma%. Bottom confirmed, record it\n",
    "            # bottom[0] = confirmation index\n",
    "            # bottom[1] = index of bottom\n",
    "            # bottom[2] = price of bottom\n",
    "            bottom = [current_candle_close_index, temporary_min_index, temporary_min]\n",
    "            bottoms.append(bottom)\n",
    "\n",
    "            # Setup for next top\n",
    "            up_zig = True\n",
    "            temporary_max = high[current_candle_close_index]\n",
    "            temporary_max_index = current_candle_close_index\n",
    "\n",
    "   return tops, bottoms\n",
    "\n",
    "\n"
   ]
  },
  {
   "cell_type": "code",
   "execution_count": null,
   "metadata": {},
   "outputs": [],
   "source": []
  },
  {
   "cell_type": "code",
   "execution_count": null,
   "metadata": {},
   "outputs": [],
   "source": []
  },
  {
   "cell_type": "code",
   "execution_count": null,
   "metadata": {},
   "outputs": [],
   "source": []
  },
  {
   "cell_type": "code",
   "execution_count": null,
   "metadata": {},
   "outputs": [],
   "source": []
  },
  {
   "cell_type": "code",
   "execution_count": 2,
   "metadata": {},
   "outputs": [
    {
     "name": "stdout",
     "output_type": "stream",
     "text": [
      "[1 2 3 4]\n"
     ]
    }
   ],
   "source": [
    "import pandas as pd\n",
    "\n",
    "# Crear una Series\n",
    "ser = pd.Series([1, 2, 3, 4], index=['a', 'b', 'c', 'd'])\n",
    "\n",
    "# Convertir la Series a un np.array usando to_numpy()\n",
    "arr = ser.to_numpy()\n",
    "print(arr)\n",
    "# Output: [1 2 3 4]"
   ]
  },
  {
   "cell_type": "code",
   "execution_count": 5,
   "metadata": {},
   "outputs": [
    {
     "name": "stderr",
     "output_type": "stream",
     "text": [
      "/var/folders/lw/mwc8q8hj6t9bsfnbts70kxth0000gn/T/ipykernel_76577/4267038266.py:1: FutureWarning: Series.__getitem__ treating keys as positions is deprecated. In a future version, integer keys will always be treated as labels (consistent with DataFrame behavior). To access a value by position, use `ser.iloc[pos]`\n",
      "  ser[1]\n"
     ]
    },
    {
     "data": {
      "text/plain": [
       "2"
      ]
     },
     "execution_count": 5,
     "metadata": {},
     "output_type": "execute_result"
    }
   ],
   "source": [
    "ser[1]"
   ]
  },
  {
   "cell_type": "code",
   "execution_count": 6,
   "metadata": {},
   "outputs": [
    {
     "data": {
      "text/plain": [
       "2"
      ]
     },
     "execution_count": 6,
     "metadata": {},
     "output_type": "execute_result"
    }
   ],
   "source": [
    "arr[1]"
   ]
  },
  {
   "cell_type": "code",
   "execution_count": null,
   "metadata": {},
   "outputs": [],
   "source": []
  },
  {
   "cell_type": "code",
   "execution_count": null,
   "metadata": {},
   "outputs": [],
   "source": []
  },
  {
   "cell_type": "markdown",
   "metadata": {},
   "source": [
    "# two sum\n",
    "Input: nums = [3,2,4]\n",
    "target = 6\n",
    "Output: [1,2]"
   ]
  }
 ],
 "metadata": {
  "kernelspec": {
   "display_name": "Python 3",
   "language": "python",
   "name": "python3"
  },
  "language_info": {
   "codemirror_mode": {
    "name": "ipython",
    "version": 3
   },
   "file_extension": ".py",
   "mimetype": "text/x-python",
   "name": "python",
   "nbconvert_exporter": "python",
   "pygments_lexer": "ipython3",
   "version": "3.9.6"
  }
 },
 "nbformat": 4,
 "nbformat_minor": 2
}
