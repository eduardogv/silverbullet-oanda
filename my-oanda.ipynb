{
 "cells": [
  {
   "cell_type": "code",
   "execution_count": 26,
   "metadata": {},
   "outputs": [],
   "source": [
    "import requests\n",
    "import pandas as pd\n",
    "import defs\n",
    "from datetime import datetime, timedelta\n",
    "import pytz\n",
    "import defs\n",
    "import plotly.graph_objects as go "
   ]
  },
  {
   "cell_type": "markdown",
   "metadata": {},
   "source": [
    "Debo obtener la data de ESTA semana. Parametros en RFC3339.  \n",
    "Considerando que solo obtengo 5000 velas por llamada de la API y que cada dia tengo 1440 velasde M1, tengo que hacer 2.016 llamadas de la API por cada toda una semana.  \n",
    "**NO HAY CONVERSION DE HORAS, LA HORA SOLO ES UNA Y VAMOS A USAR FORMATO Z UTC+0**  \n",
    "- FORMATO RFC 3339:\n",
    "    - 2024-07-03T03:08:00.000000000Z  (le resto 4 horas al UTC+0)\n",
    "\n",
    "\n",
    "Como el API usa los valores Z UTC+0, voy a basar toda mi logica en este formato, bajo esa premisa mis horas importantes son:\n",
    "\n",
    "- Inicio del dia de NY en formato Z: 04:00:00.000000000Z:\n",
    "    - 2024-07-03T04:00:00.000000000Z\n",
    "- Timeframe para Liquidity Grab NY 09:30-10:00 am:\n",
    "    -   2024-07-03T13:30:00.000000000Z\n",
    "- Silverbullet Start NY 10:00am:\n",
    "    -   2024-07-03T14:00:00.000000000Z\n",
    "- Silverbullet End NY 11:00am :\n",
    "    -   2024-07-03T15:00:00.000000000Z\n",
    "- Fin de sesion NY 17:00:\n",
    "    -   2024-07-03T21:00:00.000000000Z\n",
    "\n",
    "*NOTA:*  \n",
    "Notar que en RFC339, la variable Z se usa para indicar que es UTC+0, por lo que la usare siempre (https://medium.easyread.co/understanding-about-rfc-3339-for-datetime-formatting-in-software-engineering-940aa5d5f68a).  \n"
   ]
  },
  {
   "cell_type": "code",
   "execution_count": 291,
   "metadata": {},
   "outputs": [
    {
     "name": "stdout",
     "output_type": "stream",
     "text": [
      "Hora actual en Nueva York: 2024-07-04T00:55:16.686759Z\n"
     ]
    }
   ],
   "source": [
    "#Funcion para obtener hora actual de NY en formato Z UTC-0\n",
    "import pytz\n",
    "from datetime import datetime\n",
    "\n",
    "def obtener_hora_nueva_york_rfc3339():\n",
    "    # Definir la zona horaria de Nueva York\n",
    "    zona_horaria_ny = pytz.timezone('America/New_York')\n",
    "\n",
    "    # Obtener la fecha y hora actual en la zona horaria de Nueva York\n",
    "    ahora_ny = datetime.now(zona_horaria_ny)\n",
    "\n",
    "    # Formatear la fecha y hora en el formato deseado\n",
    "    hora_formateada = ahora_ny.strftime(\"%Y-%m-%dT%H:%M:%S.%fZ\")\n",
    "\n",
    "    return hora_formateada\n",
    "\n",
    "# Ejemplo de uso\n",
    "hora_actual_ny = obtener_hora_nueva_york_rfc3339()\n",
    "print(\"Hora actual en Nueva York:\", hora_actual_ny)\n"
   ]
  },
  {
   "cell_type": "code",
   "execution_count": 292,
   "metadata": {},
   "outputs": [
    {
     "data": {
      "text/plain": [
       "True"
      ]
     },
     "execution_count": 292,
     "metadata": {},
     "output_type": "execute_result"
    }
   ],
   "source": [
    "# Validacion de horario de verano en NY (retorno booleano)\n",
    "import pytz\n",
    "from datetime import datetime\n",
    "\n",
    "def esta_en_horario_verano_nueva_york():\n",
    "    # Definir la zona horaria de Nueva York\n",
    "    zona_horaria_ny = pytz.timezone('America/New_York')\n",
    "\n",
    "    # Obtener la fecha y hora actual en la zona horaria de Nueva York\n",
    "    ahora_ny = datetime.now(zona_horaria_ny)\n",
    "\n",
    "    # Verificar si estamos en horario de verano\n",
    "    esta_en_horario_verano = ahora_ny.dst() != zona_horaria_ny.dst(None)\n",
    "\n",
    "    return esta_en_horario_verano\n",
    "\n",
    "esta_en_horario_verano_nueva_york()"
   ]
  },
  {
   "cell_type": "code",
   "execution_count": 293,
   "metadata": {},
   "outputs": [
    {
     "name": "stdout",
     "output_type": "stream",
     "text": [
      "Hora 04:00 UTC+0 (RFC3339): 2024-07-04T04:00:00.000000Z\n"
     ]
    }
   ],
   "source": [
    "# Hora 04:00 del dia de HOY\n",
    "\n",
    "import pytz\n",
    "from datetime import datetime, timedelta\n",
    "\n",
    "def obtener_hora_04_00_utc_rfc3339():\n",
    "    # Obtener la fecha y hora actual en UTC+0\n",
    "    ahora_utc = datetime.now(pytz.utc)\n",
    "\n",
    "    # Crear un nuevo objeto datetime con la hora fijada a las 04:00 del mismo día\n",
    "    hora_04_00 = ahora_utc.replace(hour=4, minute=0, second=0, microsecond=0)\n",
    "\n",
    "    # Formatear la nueva fecha y hora en formato RFC3339 con la 'Z'\n",
    "    hora_rfc3339 = hora_04_00.strftime(\"%Y-%m-%dT%H:%M:%S.%fZ\")\n",
    "\n",
    "    return hora_rfc3339\n",
    "\n",
    "# Ejemplo de uso\n",
    "hora_04_00_utc_rfc3339 = obtener_hora_04_00_utc_rfc3339()\n",
    "print(\"Hora 04:00 UTC+0 (RFC3339):\", hora_04_00_utc_rfc3339)\n"
   ]
  },
  {
   "cell_type": "code",
   "execution_count": 294,
   "metadata": {},
   "outputs": [
    {
     "name": "stdout",
     "output_type": "stream",
     "text": [
      "Hora 04:00 UTC+0 (RFC3339) hace 7 días: 2024-06-27T04:00:00.000000Z\n"
     ]
    }
   ],
   "source": [
    "# Obtengo la hora 04:00 de hace 7 dias, validando previamente si es horario de verano \n",
    "import pytz\n",
    "from datetime import datetime, timedelta\n",
    "\n",
    "def obtener_hora_04_00_utc_rfc3339_hace_7_dias():\n",
    "    # Obtener la fecha y hora actual en UTC+0\n",
    "    ahora_utc = datetime.now(pytz.utc)\n",
    "\n",
    "    # Restar 7 días a la fecha y hora actual\n",
    "    hace_7_dias = ahora_utc - timedelta(days=7)\n",
    "\n",
    "    # Validar si es horario de verano\n",
    "    horario_verano = esta_en_horario_verano_nueva_york()\n",
    "    \n",
    "    if horario_verano: \n",
    "        # Crear un nuevo objeto datetime con la hora fijada a las 04:00 del mismo día hace 7 días\n",
    "        hora_ajustada = hace_7_dias.replace(hour=4, minute=0, second=0, microsecond=0)\n",
    "    else:\n",
    "        hora_ajustada = hace_7_dias.replace(hour=5, minute=0, second=0, microsecond=0)\n",
    "\n",
    "    # Formatear la nueva fecha y hora en formato RFC3339 con la 'Z'\n",
    "    hora_rfc3339 = hora_ajustada.strftime(\"%Y-%m-%dT%H:%M:%S.%fZ\")\n",
    "\n",
    "    return hora_rfc3339\n",
    "\n",
    "# Ejemplo de uso\n",
    "hora_04_00_utc_rfc3339_hace_7_dias = obtener_hora_04_00_utc_rfc3339_hace_7_dias()\n",
    "print(\"Hora 04:00 UTC+0 (RFC3339) hace 7 días:\", hora_04_00_utc_rfc3339_hace_7_dias)\n"
   ]
  },
  {
   "cell_type": "markdown",
   "metadata": {},
   "source": [
    "### Llamada al API y conversion a Dataframe"
   ]
  },
  {
   "cell_type": "code",
   "execution_count": 295,
   "metadata": {},
   "outputs": [],
   "source": [
    "def get_candles (instrument, granularity, starting_date, count):\n",
    "    session = requests.Session()\n",
    "    url = f\"{defs.OANDA_URL}/instruments/{instrument}/candles\"\n",
    "    params = {\n",
    "        'granularity' : granularity,\n",
    "        'price' : \"MBA\",\n",
    "        'from' : starting_date,\n",
    "        'count': count\n",
    "    }\n",
    "    response = session.get(url, params=params, headers=defs.SECURE_HEADER)\n",
    "    candle_data = response.json()\n",
    "    return candle_data\n",
    "\n",
    "\n",
    "def convert_to_df(candle_data):\n",
    "    prices = [\"mid\", \"bid\", \"ask\"]\n",
    "    ohlc = [\"o\", \"h\", \"l\", \"c\"]\n",
    "    our_data = []\n",
    "\n",
    "    for candle in candle_data[\"candles\"]:\n",
    "        if candle[\"complete\"] == False:\n",
    "            continue\n",
    "        new_dict = {}\n",
    "        new_dict[\"time\"] = candle[\"time\"]\n",
    "        new_dict[\"volume\"] = candle[\"volume\"]\n",
    "        for price in prices:\n",
    "            for oh in ohlc:\n",
    "                new_dict[f\"{price}_{oh}\"] = candle[price][oh]\n",
    "        our_data.append(new_dict)\n",
    "    return pd.DataFrame(our_data)\n",
    "\n"
   ]
  },
  {
   "cell_type": "code",
   "execution_count": 296,
   "metadata": {},
   "outputs": [
    {
     "data": {
      "text/html": [
       "<div>\n",
       "<style scoped>\n",
       "    .dataframe tbody tr th:only-of-type {\n",
       "        vertical-align: middle;\n",
       "    }\n",
       "\n",
       "    .dataframe tbody tr th {\n",
       "        vertical-align: top;\n",
       "    }\n",
       "\n",
       "    .dataframe thead th {\n",
       "        text-align: right;\n",
       "    }\n",
       "</style>\n",
       "<table border=\"1\" class=\"dataframe\">\n",
       "  <thead>\n",
       "    <tr style=\"text-align: right;\">\n",
       "      <th></th>\n",
       "      <th>time</th>\n",
       "      <th>volume</th>\n",
       "      <th>mid_o</th>\n",
       "      <th>mid_h</th>\n",
       "      <th>mid_l</th>\n",
       "      <th>mid_c</th>\n",
       "      <th>bid_o</th>\n",
       "      <th>bid_h</th>\n",
       "      <th>bid_l</th>\n",
       "      <th>bid_c</th>\n",
       "      <th>ask_o</th>\n",
       "      <th>ask_h</th>\n",
       "      <th>ask_l</th>\n",
       "      <th>ask_c</th>\n",
       "    </tr>\n",
       "  </thead>\n",
       "  <tbody>\n",
       "    <tr>\n",
       "      <th>0</th>\n",
       "      <td>2024-07-04T03:12:00.000000000Z</td>\n",
       "      <td>25</td>\n",
       "      <td>1.07866</td>\n",
       "      <td>1.07872</td>\n",
       "      <td>1.07865</td>\n",
       "      <td>1.07868</td>\n",
       "      <td>1.07857</td>\n",
       "      <td>1.07864</td>\n",
       "      <td>1.07857</td>\n",
       "      <td>1.07860</td>\n",
       "      <td>1.07875</td>\n",
       "      <td>1.07879</td>\n",
       "      <td>1.07873</td>\n",
       "      <td>1.07875</td>\n",
       "    </tr>\n",
       "    <tr>\n",
       "      <th>1</th>\n",
       "      <td>2024-07-04T03:13:00.000000000Z</td>\n",
       "      <td>8</td>\n",
       "      <td>1.07866</td>\n",
       "      <td>1.07866</td>\n",
       "      <td>1.07866</td>\n",
       "      <td>1.07866</td>\n",
       "      <td>1.07858</td>\n",
       "      <td>1.07859</td>\n",
       "      <td>1.07858</td>\n",
       "      <td>1.07859</td>\n",
       "      <td>1.07873</td>\n",
       "      <td>1.07874</td>\n",
       "      <td>1.07873</td>\n",
       "      <td>1.07874</td>\n",
       "    </tr>\n",
       "    <tr>\n",
       "      <th>2</th>\n",
       "      <td>2024-07-04T03:14:00.000000000Z</td>\n",
       "      <td>1</td>\n",
       "      <td>1.07864</td>\n",
       "      <td>1.07864</td>\n",
       "      <td>1.07864</td>\n",
       "      <td>1.07864</td>\n",
       "      <td>1.07856</td>\n",
       "      <td>1.07856</td>\n",
       "      <td>1.07856</td>\n",
       "      <td>1.07856</td>\n",
       "      <td>1.07872</td>\n",
       "      <td>1.07872</td>\n",
       "      <td>1.07872</td>\n",
       "      <td>1.07872</td>\n",
       "    </tr>\n",
       "    <tr>\n",
       "      <th>3</th>\n",
       "      <td>2024-07-04T03:15:00.000000000Z</td>\n",
       "      <td>12</td>\n",
       "      <td>1.07864</td>\n",
       "      <td>1.07866</td>\n",
       "      <td>1.07864</td>\n",
       "      <td>1.07865</td>\n",
       "      <td>1.07857</td>\n",
       "      <td>1.07858</td>\n",
       "      <td>1.07856</td>\n",
       "      <td>1.07858</td>\n",
       "      <td>1.07872</td>\n",
       "      <td>1.07874</td>\n",
       "      <td>1.07871</td>\n",
       "      <td>1.07872</td>\n",
       "    </tr>\n",
       "    <tr>\n",
       "      <th>4</th>\n",
       "      <td>2024-07-04T03:16:00.000000000Z</td>\n",
       "      <td>8</td>\n",
       "      <td>1.07864</td>\n",
       "      <td>1.07864</td>\n",
       "      <td>1.07862</td>\n",
       "      <td>1.07864</td>\n",
       "      <td>1.07857</td>\n",
       "      <td>1.07857</td>\n",
       "      <td>1.07855</td>\n",
       "      <td>1.07857</td>\n",
       "      <td>1.07872</td>\n",
       "      <td>1.07872</td>\n",
       "      <td>1.07870</td>\n",
       "      <td>1.07871</td>\n",
       "    </tr>\n",
       "    <tr>\n",
       "      <th>...</th>\n",
       "      <td>...</td>\n",
       "      <td>...</td>\n",
       "      <td>...</td>\n",
       "      <td>...</td>\n",
       "      <td>...</td>\n",
       "      <td>...</td>\n",
       "      <td>...</td>\n",
       "      <td>...</td>\n",
       "      <td>...</td>\n",
       "      <td>...</td>\n",
       "      <td>...</td>\n",
       "      <td>...</td>\n",
       "      <td>...</td>\n",
       "      <td>...</td>\n",
       "    </tr>\n",
       "    <tr>\n",
       "      <th>95</th>\n",
       "      <td>2024-07-04T04:47:00.000000000Z</td>\n",
       "      <td>13</td>\n",
       "      <td>1.07850</td>\n",
       "      <td>1.07852</td>\n",
       "      <td>1.07850</td>\n",
       "      <td>1.07852</td>\n",
       "      <td>1.07842</td>\n",
       "      <td>1.07844</td>\n",
       "      <td>1.07842</td>\n",
       "      <td>1.07844</td>\n",
       "      <td>1.07859</td>\n",
       "      <td>1.07861</td>\n",
       "      <td>1.07859</td>\n",
       "      <td>1.07861</td>\n",
       "    </tr>\n",
       "    <tr>\n",
       "      <th>96</th>\n",
       "      <td>2024-07-04T04:48:00.000000000Z</td>\n",
       "      <td>38</td>\n",
       "      <td>1.07852</td>\n",
       "      <td>1.07854</td>\n",
       "      <td>1.07851</td>\n",
       "      <td>1.07852</td>\n",
       "      <td>1.07844</td>\n",
       "      <td>1.07845</td>\n",
       "      <td>1.07843</td>\n",
       "      <td>1.07844</td>\n",
       "      <td>1.07860</td>\n",
       "      <td>1.07862</td>\n",
       "      <td>1.07859</td>\n",
       "      <td>1.07860</td>\n",
       "    </tr>\n",
       "    <tr>\n",
       "      <th>97</th>\n",
       "      <td>2024-07-04T04:49:00.000000000Z</td>\n",
       "      <td>47</td>\n",
       "      <td>1.07852</td>\n",
       "      <td>1.07856</td>\n",
       "      <td>1.07852</td>\n",
       "      <td>1.07854</td>\n",
       "      <td>1.07844</td>\n",
       "      <td>1.07848</td>\n",
       "      <td>1.07844</td>\n",
       "      <td>1.07846</td>\n",
       "      <td>1.07861</td>\n",
       "      <td>1.07864</td>\n",
       "      <td>1.07860</td>\n",
       "      <td>1.07863</td>\n",
       "    </tr>\n",
       "    <tr>\n",
       "      <th>98</th>\n",
       "      <td>2024-07-04T04:50:00.000000000Z</td>\n",
       "      <td>26</td>\n",
       "      <td>1.07855</td>\n",
       "      <td>1.07858</td>\n",
       "      <td>1.07854</td>\n",
       "      <td>1.07858</td>\n",
       "      <td>1.07847</td>\n",
       "      <td>1.07850</td>\n",
       "      <td>1.07847</td>\n",
       "      <td>1.07850</td>\n",
       "      <td>1.07863</td>\n",
       "      <td>1.07866</td>\n",
       "      <td>1.07862</td>\n",
       "      <td>1.07865</td>\n",
       "    </tr>\n",
       "    <tr>\n",
       "      <th>99</th>\n",
       "      <td>2024-07-04T04:51:00.000000000Z</td>\n",
       "      <td>44</td>\n",
       "      <td>1.07857</td>\n",
       "      <td>1.07858</td>\n",
       "      <td>1.07852</td>\n",
       "      <td>1.07852</td>\n",
       "      <td>1.07849</td>\n",
       "      <td>1.07850</td>\n",
       "      <td>1.07843</td>\n",
       "      <td>1.07845</td>\n",
       "      <td>1.07865</td>\n",
       "      <td>1.07865</td>\n",
       "      <td>1.07859</td>\n",
       "      <td>1.07860</td>\n",
       "    </tr>\n",
       "  </tbody>\n",
       "</table>\n",
       "<p>100 rows × 14 columns</p>\n",
       "</div>"
      ],
      "text/plain": [
       "                              time  volume    mid_o    mid_h    mid_l  \\\n",
       "0   2024-07-04T03:12:00.000000000Z      25  1.07866  1.07872  1.07865   \n",
       "1   2024-07-04T03:13:00.000000000Z       8  1.07866  1.07866  1.07866   \n",
       "2   2024-07-04T03:14:00.000000000Z       1  1.07864  1.07864  1.07864   \n",
       "3   2024-07-04T03:15:00.000000000Z      12  1.07864  1.07866  1.07864   \n",
       "4   2024-07-04T03:16:00.000000000Z       8  1.07864  1.07864  1.07862   \n",
       "..                             ...     ...      ...      ...      ...   \n",
       "95  2024-07-04T04:47:00.000000000Z      13  1.07850  1.07852  1.07850   \n",
       "96  2024-07-04T04:48:00.000000000Z      38  1.07852  1.07854  1.07851   \n",
       "97  2024-07-04T04:49:00.000000000Z      47  1.07852  1.07856  1.07852   \n",
       "98  2024-07-04T04:50:00.000000000Z      26  1.07855  1.07858  1.07854   \n",
       "99  2024-07-04T04:51:00.000000000Z      44  1.07857  1.07858  1.07852   \n",
       "\n",
       "      mid_c    bid_o    bid_h    bid_l    bid_c    ask_o    ask_h    ask_l  \\\n",
       "0   1.07868  1.07857  1.07864  1.07857  1.07860  1.07875  1.07879  1.07873   \n",
       "1   1.07866  1.07858  1.07859  1.07858  1.07859  1.07873  1.07874  1.07873   \n",
       "2   1.07864  1.07856  1.07856  1.07856  1.07856  1.07872  1.07872  1.07872   \n",
       "3   1.07865  1.07857  1.07858  1.07856  1.07858  1.07872  1.07874  1.07871   \n",
       "4   1.07864  1.07857  1.07857  1.07855  1.07857  1.07872  1.07872  1.07870   \n",
       "..      ...      ...      ...      ...      ...      ...      ...      ...   \n",
       "95  1.07852  1.07842  1.07844  1.07842  1.07844  1.07859  1.07861  1.07859   \n",
       "96  1.07852  1.07844  1.07845  1.07843  1.07844  1.07860  1.07862  1.07859   \n",
       "97  1.07854  1.07844  1.07848  1.07844  1.07846  1.07861  1.07864  1.07860   \n",
       "98  1.07858  1.07847  1.07850  1.07847  1.07850  1.07863  1.07866  1.07862   \n",
       "99  1.07852  1.07849  1.07850  1.07843  1.07845  1.07865  1.07865  1.07859   \n",
       "\n",
       "      ask_c  \n",
       "0   1.07875  \n",
       "1   1.07874  \n",
       "2   1.07872  \n",
       "3   1.07872  \n",
       "4   1.07871  \n",
       "..      ...  \n",
       "95  1.07861  \n",
       "96  1.07860  \n",
       "97  1.07863  \n",
       "98  1.07865  \n",
       "99  1.07860  \n",
       "\n",
       "[100 rows x 14 columns]"
      ]
     },
     "execution_count": 296,
     "metadata": {},
     "output_type": "execute_result"
    }
   ],
   "source": [
    "# PRUEBO LA FUNCION\n",
    "instrument = \"EUR_USD\"\n",
    "granularity = \"M1\"\n",
    "starting_date = obtener_hora_04_00_utc_rfc3339_hace_7_dias()\n",
    "ahoprita = '2024-07-04T03:12:25.253345Z'\n",
    "\n",
    "initial_json = get_candles(instrument, granularity, ahoprita, 5000)\n",
    "initial_df = convert_to_df(initial_json)\n",
    "initial_df"
   ]
  },
  {
   "cell_type": "markdown",
   "metadata": {},
   "source": [
    "### Logica de Iteracion para obtencion de datos consecutiva del API"
   ]
  },
  {
   "cell_type": "code",
   "execution_count": 311,
   "metadata": {},
   "outputs": [
    {
     "name": "stdout",
     "output_type": "stream",
     "text": [
      "se jalo data empezando en:  2024-06-27T04:00:00.000000Z\n",
      "la ultima vela es:  2024-07-02T15:57:00.000000000Z\n",
      "se cumplio la condicion de inicio del bucle\n",
      "===================================\n",
      "se sigue ejecutando el bucle recursivo con el ultimo candle como nuevo limite\n",
      "se jalo data empezando en:  2024-07-02T15:57:00.000000000Z\n",
      "la ultima vela es:  2024-07-04T05:14:00.000000000Z\n",
      "se concatenan los df\n",
      "===================================\n",
      "se sigue ejecutando el bucle recursivo con el ultimo candle como nuevo limite\n",
      "se jalo data empezando en:  2024-07-04T05:14:00.000000000Z\n",
      "la ultima vela es:  2024-07-04T05:14:00.000000000Z\n",
      "se cumplio la condicion de cierre del bucle recursivo\n"
     ]
    },
    {
     "data": {
      "text/html": [
       "<div>\n",
       "<style scoped>\n",
       "    .dataframe tbody tr th:only-of-type {\n",
       "        vertical-align: middle;\n",
       "    }\n",
       "\n",
       "    .dataframe tbody tr th {\n",
       "        vertical-align: top;\n",
       "    }\n",
       "\n",
       "    .dataframe thead th {\n",
       "        text-align: right;\n",
       "    }\n",
       "</style>\n",
       "<table border=\"1\" class=\"dataframe\">\n",
       "  <thead>\n",
       "    <tr style=\"text-align: right;\">\n",
       "      <th></th>\n",
       "      <th>time</th>\n",
       "      <th>volume</th>\n",
       "      <th>mid_o</th>\n",
       "      <th>mid_h</th>\n",
       "      <th>mid_l</th>\n",
       "      <th>mid_c</th>\n",
       "      <th>bid_o</th>\n",
       "      <th>bid_h</th>\n",
       "      <th>bid_l</th>\n",
       "      <th>bid_c</th>\n",
       "      <th>ask_o</th>\n",
       "      <th>ask_h</th>\n",
       "      <th>ask_l</th>\n",
       "      <th>ask_c</th>\n",
       "    </tr>\n",
       "  </thead>\n",
       "  <tbody>\n",
       "    <tr>\n",
       "      <th>0</th>\n",
       "      <td>2024-06-27T04:00:00.000000000Z</td>\n",
       "      <td>31</td>\n",
       "      <td>1.06906</td>\n",
       "      <td>1.06909</td>\n",
       "      <td>1.06906</td>\n",
       "      <td>1.06908</td>\n",
       "      <td>1.06899</td>\n",
       "      <td>1.06902</td>\n",
       "      <td>1.06899</td>\n",
       "      <td>1.06901</td>\n",
       "      <td>1.06913</td>\n",
       "      <td>1.06916</td>\n",
       "      <td>1.06913</td>\n",
       "      <td>1.06916</td>\n",
       "    </tr>\n",
       "    <tr>\n",
       "      <th>1</th>\n",
       "      <td>2024-06-27T04:01:00.000000000Z</td>\n",
       "      <td>8</td>\n",
       "      <td>1.06908</td>\n",
       "      <td>1.06909</td>\n",
       "      <td>1.06908</td>\n",
       "      <td>1.06908</td>\n",
       "      <td>1.06901</td>\n",
       "      <td>1.06902</td>\n",
       "      <td>1.06901</td>\n",
       "      <td>1.06901</td>\n",
       "      <td>1.06915</td>\n",
       "      <td>1.06916</td>\n",
       "      <td>1.06915</td>\n",
       "      <td>1.06915</td>\n",
       "    </tr>\n",
       "    <tr>\n",
       "      <th>2</th>\n",
       "      <td>2024-06-27T04:02:00.000000000Z</td>\n",
       "      <td>9</td>\n",
       "      <td>1.06906</td>\n",
       "      <td>1.06912</td>\n",
       "      <td>1.06906</td>\n",
       "      <td>1.06912</td>\n",
       "      <td>1.06899</td>\n",
       "      <td>1.06904</td>\n",
       "      <td>1.06899</td>\n",
       "      <td>1.06904</td>\n",
       "      <td>1.06914</td>\n",
       "      <td>1.06919</td>\n",
       "      <td>1.06914</td>\n",
       "      <td>1.06919</td>\n",
       "    </tr>\n",
       "    <tr>\n",
       "      <th>3</th>\n",
       "      <td>2024-06-27T04:03:00.000000000Z</td>\n",
       "      <td>11</td>\n",
       "      <td>1.06914</td>\n",
       "      <td>1.06918</td>\n",
       "      <td>1.06912</td>\n",
       "      <td>1.06918</td>\n",
       "      <td>1.06907</td>\n",
       "      <td>1.06911</td>\n",
       "      <td>1.06905</td>\n",
       "      <td>1.06911</td>\n",
       "      <td>1.06921</td>\n",
       "      <td>1.06925</td>\n",
       "      <td>1.06920</td>\n",
       "      <td>1.06925</td>\n",
       "    </tr>\n",
       "    <tr>\n",
       "      <th>4</th>\n",
       "      <td>2024-06-27T04:04:00.000000000Z</td>\n",
       "      <td>6</td>\n",
       "      <td>1.06918</td>\n",
       "      <td>1.06918</td>\n",
       "      <td>1.06916</td>\n",
       "      <td>1.06916</td>\n",
       "      <td>1.06911</td>\n",
       "      <td>1.06911</td>\n",
       "      <td>1.06909</td>\n",
       "      <td>1.06909</td>\n",
       "      <td>1.06926</td>\n",
       "      <td>1.06926</td>\n",
       "      <td>1.06923</td>\n",
       "      <td>1.06923</td>\n",
       "    </tr>\n",
       "    <tr>\n",
       "      <th>...</th>\n",
       "      <td>...</td>\n",
       "      <td>...</td>\n",
       "      <td>...</td>\n",
       "      <td>...</td>\n",
       "      <td>...</td>\n",
       "      <td>...</td>\n",
       "      <td>...</td>\n",
       "      <td>...</td>\n",
       "      <td>...</td>\n",
       "      <td>...</td>\n",
       "      <td>...</td>\n",
       "      <td>...</td>\n",
       "      <td>...</td>\n",
       "      <td>...</td>\n",
       "    </tr>\n",
       "    <tr>\n",
       "      <th>7189</th>\n",
       "      <td>2024-07-04T05:09:00.000000000Z</td>\n",
       "      <td>13</td>\n",
       "      <td>1.07856</td>\n",
       "      <td>1.07856</td>\n",
       "      <td>1.07855</td>\n",
       "      <td>1.07856</td>\n",
       "      <td>1.07849</td>\n",
       "      <td>1.07849</td>\n",
       "      <td>1.07848</td>\n",
       "      <td>1.07848</td>\n",
       "      <td>1.07864</td>\n",
       "      <td>1.07864</td>\n",
       "      <td>1.07862</td>\n",
       "      <td>1.07863</td>\n",
       "    </tr>\n",
       "    <tr>\n",
       "      <th>7190</th>\n",
       "      <td>2024-07-04T05:10:00.000000000Z</td>\n",
       "      <td>12</td>\n",
       "      <td>1.07852</td>\n",
       "      <td>1.07854</td>\n",
       "      <td>1.07852</td>\n",
       "      <td>1.07854</td>\n",
       "      <td>1.07844</td>\n",
       "      <td>1.07847</td>\n",
       "      <td>1.07844</td>\n",
       "      <td>1.07846</td>\n",
       "      <td>1.07861</td>\n",
       "      <td>1.07861</td>\n",
       "      <td>1.07860</td>\n",
       "      <td>1.07861</td>\n",
       "    </tr>\n",
       "    <tr>\n",
       "      <th>7191</th>\n",
       "      <td>2024-07-04T05:12:00.000000000Z</td>\n",
       "      <td>22</td>\n",
       "      <td>1.07854</td>\n",
       "      <td>1.07854</td>\n",
       "      <td>1.07852</td>\n",
       "      <td>1.07854</td>\n",
       "      <td>1.07847</td>\n",
       "      <td>1.07847</td>\n",
       "      <td>1.07845</td>\n",
       "      <td>1.07847</td>\n",
       "      <td>1.07861</td>\n",
       "      <td>1.07861</td>\n",
       "      <td>1.07860</td>\n",
       "      <td>1.07861</td>\n",
       "    </tr>\n",
       "    <tr>\n",
       "      <th>7192</th>\n",
       "      <td>2024-07-04T05:13:00.000000000Z</td>\n",
       "      <td>30</td>\n",
       "      <td>1.07854</td>\n",
       "      <td>1.07856</td>\n",
       "      <td>1.07852</td>\n",
       "      <td>1.07855</td>\n",
       "      <td>1.07846</td>\n",
       "      <td>1.07849</td>\n",
       "      <td>1.07845</td>\n",
       "      <td>1.07848</td>\n",
       "      <td>1.07861</td>\n",
       "      <td>1.07863</td>\n",
       "      <td>1.07860</td>\n",
       "      <td>1.07862</td>\n",
       "    </tr>\n",
       "    <tr>\n",
       "      <th>7193</th>\n",
       "      <td>2024-07-04T05:14:00.000000000Z</td>\n",
       "      <td>21</td>\n",
       "      <td>1.07856</td>\n",
       "      <td>1.07856</td>\n",
       "      <td>1.07853</td>\n",
       "      <td>1.07854</td>\n",
       "      <td>1.07848</td>\n",
       "      <td>1.07848</td>\n",
       "      <td>1.07845</td>\n",
       "      <td>1.07847</td>\n",
       "      <td>1.07863</td>\n",
       "      <td>1.07864</td>\n",
       "      <td>1.07861</td>\n",
       "      <td>1.07862</td>\n",
       "    </tr>\n",
       "  </tbody>\n",
       "</table>\n",
       "<p>7194 rows × 14 columns</p>\n",
       "</div>"
      ],
      "text/plain": [
       "                                time  volume    mid_o    mid_h    mid_l  \\\n",
       "0     2024-06-27T04:00:00.000000000Z      31  1.06906  1.06909  1.06906   \n",
       "1     2024-06-27T04:01:00.000000000Z       8  1.06908  1.06909  1.06908   \n",
       "2     2024-06-27T04:02:00.000000000Z       9  1.06906  1.06912  1.06906   \n",
       "3     2024-06-27T04:03:00.000000000Z      11  1.06914  1.06918  1.06912   \n",
       "4     2024-06-27T04:04:00.000000000Z       6  1.06918  1.06918  1.06916   \n",
       "...                              ...     ...      ...      ...      ...   \n",
       "7189  2024-07-04T05:09:00.000000000Z      13  1.07856  1.07856  1.07855   \n",
       "7190  2024-07-04T05:10:00.000000000Z      12  1.07852  1.07854  1.07852   \n",
       "7191  2024-07-04T05:12:00.000000000Z      22  1.07854  1.07854  1.07852   \n",
       "7192  2024-07-04T05:13:00.000000000Z      30  1.07854  1.07856  1.07852   \n",
       "7193  2024-07-04T05:14:00.000000000Z      21  1.07856  1.07856  1.07853   \n",
       "\n",
       "        mid_c    bid_o    bid_h    bid_l    bid_c    ask_o    ask_h    ask_l  \\\n",
       "0     1.06908  1.06899  1.06902  1.06899  1.06901  1.06913  1.06916  1.06913   \n",
       "1     1.06908  1.06901  1.06902  1.06901  1.06901  1.06915  1.06916  1.06915   \n",
       "2     1.06912  1.06899  1.06904  1.06899  1.06904  1.06914  1.06919  1.06914   \n",
       "3     1.06918  1.06907  1.06911  1.06905  1.06911  1.06921  1.06925  1.06920   \n",
       "4     1.06916  1.06911  1.06911  1.06909  1.06909  1.06926  1.06926  1.06923   \n",
       "...       ...      ...      ...      ...      ...      ...      ...      ...   \n",
       "7189  1.07856  1.07849  1.07849  1.07848  1.07848  1.07864  1.07864  1.07862   \n",
       "7190  1.07854  1.07844  1.07847  1.07844  1.07846  1.07861  1.07861  1.07860   \n",
       "7191  1.07854  1.07847  1.07847  1.07845  1.07847  1.07861  1.07861  1.07860   \n",
       "7192  1.07855  1.07846  1.07849  1.07845  1.07848  1.07861  1.07863  1.07860   \n",
       "7193  1.07854  1.07848  1.07848  1.07845  1.07847  1.07863  1.07864  1.07861   \n",
       "\n",
       "        ask_c  \n",
       "0     1.06916  \n",
       "1     1.06915  \n",
       "2     1.06919  \n",
       "3     1.06925  \n",
       "4     1.06923  \n",
       "...       ...  \n",
       "7189  1.07863  \n",
       "7190  1.07861  \n",
       "7191  1.07861  \n",
       "7192  1.07862  \n",
       "7193  1.07862  \n",
       "\n",
       "[7194 rows x 14 columns]"
      ]
     },
     "execution_count": 311,
     "metadata": {},
     "output_type": "execute_result"
    }
   ],
   "source": [
    "# Intento hacer la llamada al API dentro de otra funcion que llame desde una semana atras \n",
    "\n",
    "hora_inicio = obtener_hora_04_00_utc_rfc3339_hace_7_dias()\n",
    "instrument = \"EUR_USD\"\n",
    "granularity = \"M1\"\n",
    "\n",
    "def get_historical_candles(starting_date, instrument, granularity, count=5000, df_acumulado=None):\n",
    "\n",
    "    json_data = get_candles(instrument, granularity, starting_date, 5000)\n",
    "    print(\"se jalo data empezando en: \", starting_date)\n",
    "    df = convert_to_df(json_data)\n",
    "    last_candle = df.iloc[-1, 0]\n",
    "    print (\"la ultima vela es: \", last_candle)\n",
    "\n",
    "    #condicion de cierre de recursividad\n",
    "    if df.shape[0] == 1: \n",
    "        print(\"se cumplio la condicion de cierre del bucle recursivo\")\n",
    "        #df_no_duplicates = df_acumulado.drop_duplicates(subset=['time'])\n",
    "        return df_acumulado.drop_duplicates(subset=['time']).reset_index(drop = True)\n",
    "\n",
    "    # condicion para primera iteracion\n",
    "    if df_acumulado is None: \n",
    "        print(\"se cumplio la condicion de inicio del bucle\")\n",
    "        df_acumulado = df\n",
    "    else:\n",
    "        print(\"se concatenan los df\")\n",
    "        df_acumulado = pd.concat([df_acumulado, df])\n",
    "    \n",
    "\n",
    "    print(\"===================================\")\n",
    "    print(\"se sigue ejecutando el bucle recursivo con el ultimo candle como nuevo limite\")\n",
    "    return get_historical_candles(last_candle, instrument, granularity, count=5000, df_acumulado=df_acumulado)\n",
    "\n",
    "\n",
    "\n",
    "\n",
    "working_df = get_historical_candles(hora_inicio, instrument, granularity)\n",
    "working_df"
   ]
  },
  {
   "cell_type": "markdown",
   "metadata": {},
   "source": []
  },
  {
   "cell_type": "code",
   "execution_count": null,
   "metadata": {},
   "outputs": [],
   "source": [
    "# stress test NO CORRER\n",
    "#choclo = get_historical_candles('2024-02-27T04:00:00.000000Z', instrument, granularity, count=5000, df_acumulado=None)\n",
    "#choclo\n"
   ]
  },
  {
   "cell_type": "markdown",
   "metadata": {},
   "source": [
    "## Grafic de las velas"
   ]
  },
  {
   "cell_type": "code",
   "execution_count": 32,
   "metadata": {},
   "outputs": [
    {
     "name": "stdout",
     "output_type": "stream",
     "text": [
      "se jalo data empezando en:  2024-07-05T01:42:00.000000000Z\n",
      "la ultima vela es:  2024-07-05T06:05:00.000000000Z\n",
      "se cumplio la condicion de inicio del bucle\n",
      "===================================\n",
      "se sigue ejecutando el bucle recursivo con el ultimo candle como nuevo limite\n",
      "se jalo data empezando en:  2024-07-05T06:05:00.000000000Z\n",
      "la ultima vela es:  2024-07-05T06:05:00.000000000Z\n",
      "se cumplio la condicion de cierre del bucle recursivo\n"
     ]
    }
   ],
   "source": [
    "hora_inicio = '2024-07-05T01:42:00.000000000Z'\n",
    "instrument = \"EUR_USD\"\n",
    "granularity = \"M5\"\n",
    "\n",
    "df_to_plot = get_historical_candles(hora_inicio, instrument, granularity)\n"
   ]
  },
  {
   "cell_type": "code",
   "execution_count": 33,
   "metadata": {},
   "outputs": [
    {
     "data": {
      "application/vnd.plotly.v1+json": {
       "config": {
        "plotlyServerURL": "https://plot.ly"
       },
       "data": [
        {
         "close": [
          "1.08154",
          "1.08155",
          "1.08174",
          "1.08159",
          "1.08150",
          "1.08158",
          "1.08154",
          "1.08158",
          "1.08169",
          "1.08174",
          "1.08166",
          "1.08164",
          "1.08168",
          "1.08170",
          "1.08174",
          "1.08180",
          "1.08202",
          "1.08202",
          "1.08192",
          "1.08199",
          "1.08228",
          "1.08240",
          "1.08236",
          "1.08236",
          "1.08224",
          "1.08206",
          "1.08209",
          "1.08218",
          "1.08201",
          "1.08204",
          "1.08206",
          "1.08210",
          "1.08210",
          "1.08210",
          "1.08205",
          "1.08204",
          "1.08212",
          "1.08212",
          "1.08220",
          "1.08220",
          "1.08216",
          "1.08208",
          "1.08202",
          "1.08194",
          "1.08202",
          "1.08200",
          "1.08210",
          "1.08198",
          "1.08200",
          "1.08200",
          "1.08214",
          "1.08216",
          "1.08237",
          "1.08231"
         ],
         "decreasing": {
          "fillcolor": "#CC2E3C",
          "line": {
           "color": "#FF3A4C"
          }
         },
         "high": [
          "1.08161",
          "1.08161",
          "1.08174",
          "1.08174",
          "1.08158",
          "1.08161",
          "1.08160",
          "1.08162",
          "1.08170",
          "1.08174",
          "1.08174",
          "1.08168",
          "1.08170",
          "1.08171",
          "1.08175",
          "1.08181",
          "1.08216",
          "1.08205",
          "1.08210",
          "1.08202",
          "1.08243",
          "1.08242",
          "1.08242",
          "1.08245",
          "1.08240",
          "1.08225",
          "1.08213",
          "1.08224",
          "1.08219",
          "1.08214",
          "1.08210",
          "1.08211",
          "1.08213",
          "1.08211",
          "1.08210",
          "1.08213",
          "1.08214",
          "1.08213",
          "1.08222",
          "1.08229",
          "1.08221",
          "1.08217",
          "1.08210",
          "1.08202",
          "1.08206",
          "1.08205",
          "1.08212",
          "1.08214",
          "1.08200",
          "1.08204",
          "1.08217",
          "1.08226",
          "1.08237",
          "1.08238"
         ],
         "increasing": {
          "fillcolor": "#24A06B",
          "line": {
           "color": "#2EC886"
          }
         },
         "line": {
          "width": 1
         },
         "low": [
          "1.08145",
          "1.08150",
          "1.08150",
          "1.08157",
          "1.08143",
          "1.08148",
          "1.08150",
          "1.08152",
          "1.08150",
          "1.08166",
          "1.08164",
          "1.08160",
          "1.08164",
          "1.08162",
          "1.08168",
          "1.08174",
          "1.08179",
          "1.08196",
          "1.08192",
          "1.08186",
          "1.08199",
          "1.08226",
          "1.08230",
          "1.08232",
          "1.08222",
          "1.08206",
          "1.08204",
          "1.08203",
          "1.08198",
          "1.08200",
          "1.08203",
          "1.08204",
          "1.08202",
          "1.08205",
          "1.08204",
          "1.08202",
          "1.08204",
          "1.08208",
          "1.08208",
          "1.08218",
          "1.08214",
          "1.08202",
          "1.08202",
          "1.08193",
          "1.08194",
          "1.08198",
          "1.08200",
          "1.08198",
          "1.08192",
          "1.08197",
          "1.08202",
          "1.08214",
          "1.08208",
          "1.08226"
         ],
         "opacity": 1,
         "open": [
          "1.08154",
          "1.08154",
          "1.08154",
          "1.08174",
          "1.08158",
          "1.08149",
          "1.08160",
          "1.08154",
          "1.08156",
          "1.08170",
          "1.08174",
          "1.08166",
          "1.08164",
          "1.08168",
          "1.08169",
          "1.08174",
          "1.08180",
          "1.08202",
          "1.08203",
          "1.08192",
          "1.08200",
          "1.08227",
          "1.08242",
          "1.08238",
          "1.08236",
          "1.08224",
          "1.08204",
          "1.08208",
          "1.08219",
          "1.08200",
          "1.08204",
          "1.08206",
          "1.08212",
          "1.08210",
          "1.08209",
          "1.08206",
          "1.08204",
          "1.08212",
          "1.08211",
          "1.08221",
          "1.08221",
          "1.08215",
          "1.08210",
          "1.08202",
          "1.08194",
          "1.08202",
          "1.08200",
          "1.08209",
          "1.08200",
          "1.08199",
          "1.08202",
          "1.08216",
          "1.08216",
          "1.08236"
         ],
         "type": "candlestick",
         "x": [
          "2024-07-05T01:40:00.000000000Z",
          "2024-07-05T01:45:00.000000000Z",
          "2024-07-05T01:50:00.000000000Z",
          "2024-07-05T01:55:00.000000000Z",
          "2024-07-05T02:00:00.000000000Z",
          "2024-07-05T02:05:00.000000000Z",
          "2024-07-05T02:10:00.000000000Z",
          "2024-07-05T02:15:00.000000000Z",
          "2024-07-05T02:20:00.000000000Z",
          "2024-07-05T02:25:00.000000000Z",
          "2024-07-05T02:30:00.000000000Z",
          "2024-07-05T02:35:00.000000000Z",
          "2024-07-05T02:40:00.000000000Z",
          "2024-07-05T02:45:00.000000000Z",
          "2024-07-05T02:50:00.000000000Z",
          "2024-07-05T02:55:00.000000000Z",
          "2024-07-05T03:00:00.000000000Z",
          "2024-07-05T03:05:00.000000000Z",
          "2024-07-05T03:10:00.000000000Z",
          "2024-07-05T03:15:00.000000000Z",
          "2024-07-05T03:20:00.000000000Z",
          "2024-07-05T03:25:00.000000000Z",
          "2024-07-05T03:30:00.000000000Z",
          "2024-07-05T03:35:00.000000000Z",
          "2024-07-05T03:40:00.000000000Z",
          "2024-07-05T03:45:00.000000000Z",
          "2024-07-05T03:50:00.000000000Z",
          "2024-07-05T03:55:00.000000000Z",
          "2024-07-05T04:00:00.000000000Z",
          "2024-07-05T04:05:00.000000000Z",
          "2024-07-05T04:10:00.000000000Z",
          "2024-07-05T04:15:00.000000000Z",
          "2024-07-05T04:20:00.000000000Z",
          "2024-07-05T04:25:00.000000000Z",
          "2024-07-05T04:30:00.000000000Z",
          "2024-07-05T04:35:00.000000000Z",
          "2024-07-05T04:40:00.000000000Z",
          "2024-07-05T04:45:00.000000000Z",
          "2024-07-05T04:50:00.000000000Z",
          "2024-07-05T04:55:00.000000000Z",
          "2024-07-05T05:00:00.000000000Z",
          "2024-07-05T05:05:00.000000000Z",
          "2024-07-05T05:10:00.000000000Z",
          "2024-07-05T05:15:00.000000000Z",
          "2024-07-05T05:20:00.000000000Z",
          "2024-07-05T05:25:00.000000000Z",
          "2024-07-05T05:30:00.000000000Z",
          "2024-07-05T05:35:00.000000000Z",
          "2024-07-05T05:40:00.000000000Z",
          "2024-07-05T05:45:00.000000000Z",
          "2024-07-05T05:50:00.000000000Z",
          "2024-07-05T05:55:00.000000000Z",
          "2024-07-05T06:00:00.000000000Z",
          "2024-07-05T06:05:00.000000000Z"
         ]
        }
       ],
       "layout": {
        "font": {
         "color": "#e1e1e1",
         "size": 10
        },
        "height": 400,
        "margin": {
         "b": 10,
         "l": 10,
         "r": 10,
         "t": 10
        },
        "paper_bgcolor": "#1e1e1e",
        "plot_bgcolor": "#1e1e1e",
        "template": {
         "data": {
          "bar": [
           {
            "error_x": {
             "color": "#2a3f5f"
            },
            "error_y": {
             "color": "#2a3f5f"
            },
            "marker": {
             "line": {
              "color": "#E5ECF6",
              "width": 0.5
             },
             "pattern": {
              "fillmode": "overlay",
              "size": 10,
              "solidity": 0.2
             }
            },
            "type": "bar"
           }
          ],
          "barpolar": [
           {
            "marker": {
             "line": {
              "color": "#E5ECF6",
              "width": 0.5
             },
             "pattern": {
              "fillmode": "overlay",
              "size": 10,
              "solidity": 0.2
             }
            },
            "type": "barpolar"
           }
          ],
          "carpet": [
           {
            "aaxis": {
             "endlinecolor": "#2a3f5f",
             "gridcolor": "white",
             "linecolor": "white",
             "minorgridcolor": "white",
             "startlinecolor": "#2a3f5f"
            },
            "baxis": {
             "endlinecolor": "#2a3f5f",
             "gridcolor": "white",
             "linecolor": "white",
             "minorgridcolor": "white",
             "startlinecolor": "#2a3f5f"
            },
            "type": "carpet"
           }
          ],
          "choropleth": [
           {
            "colorbar": {
             "outlinewidth": 0,
             "ticks": ""
            },
            "type": "choropleth"
           }
          ],
          "contour": [
           {
            "colorbar": {
             "outlinewidth": 0,
             "ticks": ""
            },
            "colorscale": [
             [
              0,
              "#0d0887"
             ],
             [
              0.1111111111111111,
              "#46039f"
             ],
             [
              0.2222222222222222,
              "#7201a8"
             ],
             [
              0.3333333333333333,
              "#9c179e"
             ],
             [
              0.4444444444444444,
              "#bd3786"
             ],
             [
              0.5555555555555556,
              "#d8576b"
             ],
             [
              0.6666666666666666,
              "#ed7953"
             ],
             [
              0.7777777777777778,
              "#fb9f3a"
             ],
             [
              0.8888888888888888,
              "#fdca26"
             ],
             [
              1,
              "#f0f921"
             ]
            ],
            "type": "contour"
           }
          ],
          "contourcarpet": [
           {
            "colorbar": {
             "outlinewidth": 0,
             "ticks": ""
            },
            "type": "contourcarpet"
           }
          ],
          "heatmap": [
           {
            "colorbar": {
             "outlinewidth": 0,
             "ticks": ""
            },
            "colorscale": [
             [
              0,
              "#0d0887"
             ],
             [
              0.1111111111111111,
              "#46039f"
             ],
             [
              0.2222222222222222,
              "#7201a8"
             ],
             [
              0.3333333333333333,
              "#9c179e"
             ],
             [
              0.4444444444444444,
              "#bd3786"
             ],
             [
              0.5555555555555556,
              "#d8576b"
             ],
             [
              0.6666666666666666,
              "#ed7953"
             ],
             [
              0.7777777777777778,
              "#fb9f3a"
             ],
             [
              0.8888888888888888,
              "#fdca26"
             ],
             [
              1,
              "#f0f921"
             ]
            ],
            "type": "heatmap"
           }
          ],
          "heatmapgl": [
           {
            "colorbar": {
             "outlinewidth": 0,
             "ticks": ""
            },
            "colorscale": [
             [
              0,
              "#0d0887"
             ],
             [
              0.1111111111111111,
              "#46039f"
             ],
             [
              0.2222222222222222,
              "#7201a8"
             ],
             [
              0.3333333333333333,
              "#9c179e"
             ],
             [
              0.4444444444444444,
              "#bd3786"
             ],
             [
              0.5555555555555556,
              "#d8576b"
             ],
             [
              0.6666666666666666,
              "#ed7953"
             ],
             [
              0.7777777777777778,
              "#fb9f3a"
             ],
             [
              0.8888888888888888,
              "#fdca26"
             ],
             [
              1,
              "#f0f921"
             ]
            ],
            "type": "heatmapgl"
           }
          ],
          "histogram": [
           {
            "marker": {
             "pattern": {
              "fillmode": "overlay",
              "size": 10,
              "solidity": 0.2
             }
            },
            "type": "histogram"
           }
          ],
          "histogram2d": [
           {
            "colorbar": {
             "outlinewidth": 0,
             "ticks": ""
            },
            "colorscale": [
             [
              0,
              "#0d0887"
             ],
             [
              0.1111111111111111,
              "#46039f"
             ],
             [
              0.2222222222222222,
              "#7201a8"
             ],
             [
              0.3333333333333333,
              "#9c179e"
             ],
             [
              0.4444444444444444,
              "#bd3786"
             ],
             [
              0.5555555555555556,
              "#d8576b"
             ],
             [
              0.6666666666666666,
              "#ed7953"
             ],
             [
              0.7777777777777778,
              "#fb9f3a"
             ],
             [
              0.8888888888888888,
              "#fdca26"
             ],
             [
              1,
              "#f0f921"
             ]
            ],
            "type": "histogram2d"
           }
          ],
          "histogram2dcontour": [
           {
            "colorbar": {
             "outlinewidth": 0,
             "ticks": ""
            },
            "colorscale": [
             [
              0,
              "#0d0887"
             ],
             [
              0.1111111111111111,
              "#46039f"
             ],
             [
              0.2222222222222222,
              "#7201a8"
             ],
             [
              0.3333333333333333,
              "#9c179e"
             ],
             [
              0.4444444444444444,
              "#bd3786"
             ],
             [
              0.5555555555555556,
              "#d8576b"
             ],
             [
              0.6666666666666666,
              "#ed7953"
             ],
             [
              0.7777777777777778,
              "#fb9f3a"
             ],
             [
              0.8888888888888888,
              "#fdca26"
             ],
             [
              1,
              "#f0f921"
             ]
            ],
            "type": "histogram2dcontour"
           }
          ],
          "mesh3d": [
           {
            "colorbar": {
             "outlinewidth": 0,
             "ticks": ""
            },
            "type": "mesh3d"
           }
          ],
          "parcoords": [
           {
            "line": {
             "colorbar": {
              "outlinewidth": 0,
              "ticks": ""
             }
            },
            "type": "parcoords"
           }
          ],
          "pie": [
           {
            "automargin": true,
            "type": "pie"
           }
          ],
          "scatter": [
           {
            "fillpattern": {
             "fillmode": "overlay",
             "size": 10,
             "solidity": 0.2
            },
            "type": "scatter"
           }
          ],
          "scatter3d": [
           {
            "line": {
             "colorbar": {
              "outlinewidth": 0,
              "ticks": ""
             }
            },
            "marker": {
             "colorbar": {
              "outlinewidth": 0,
              "ticks": ""
             }
            },
            "type": "scatter3d"
           }
          ],
          "scattercarpet": [
           {
            "marker": {
             "colorbar": {
              "outlinewidth": 0,
              "ticks": ""
             }
            },
            "type": "scattercarpet"
           }
          ],
          "scattergeo": [
           {
            "marker": {
             "colorbar": {
              "outlinewidth": 0,
              "ticks": ""
             }
            },
            "type": "scattergeo"
           }
          ],
          "scattergl": [
           {
            "marker": {
             "colorbar": {
              "outlinewidth": 0,
              "ticks": ""
             }
            },
            "type": "scattergl"
           }
          ],
          "scattermapbox": [
           {
            "marker": {
             "colorbar": {
              "outlinewidth": 0,
              "ticks": ""
             }
            },
            "type": "scattermapbox"
           }
          ],
          "scatterpolar": [
           {
            "marker": {
             "colorbar": {
              "outlinewidth": 0,
              "ticks": ""
             }
            },
            "type": "scatterpolar"
           }
          ],
          "scatterpolargl": [
           {
            "marker": {
             "colorbar": {
              "outlinewidth": 0,
              "ticks": ""
             }
            },
            "type": "scatterpolargl"
           }
          ],
          "scatterternary": [
           {
            "marker": {
             "colorbar": {
              "outlinewidth": 0,
              "ticks": ""
             }
            },
            "type": "scatterternary"
           }
          ],
          "surface": [
           {
            "colorbar": {
             "outlinewidth": 0,
             "ticks": ""
            },
            "colorscale": [
             [
              0,
              "#0d0887"
             ],
             [
              0.1111111111111111,
              "#46039f"
             ],
             [
              0.2222222222222222,
              "#7201a8"
             ],
             [
              0.3333333333333333,
              "#9c179e"
             ],
             [
              0.4444444444444444,
              "#bd3786"
             ],
             [
              0.5555555555555556,
              "#d8576b"
             ],
             [
              0.6666666666666666,
              "#ed7953"
             ],
             [
              0.7777777777777778,
              "#fb9f3a"
             ],
             [
              0.8888888888888888,
              "#fdca26"
             ],
             [
              1,
              "#f0f921"
             ]
            ],
            "type": "surface"
           }
          ],
          "table": [
           {
            "cells": {
             "fill": {
              "color": "#EBF0F8"
             },
             "line": {
              "color": "white"
             }
            },
            "header": {
             "fill": {
              "color": "#C8D4E3"
             },
             "line": {
              "color": "white"
             }
            },
            "type": "table"
           }
          ]
         },
         "layout": {
          "annotationdefaults": {
           "arrowcolor": "#2a3f5f",
           "arrowhead": 0,
           "arrowwidth": 1
          },
          "autotypenumbers": "strict",
          "coloraxis": {
           "colorbar": {
            "outlinewidth": 0,
            "ticks": ""
           }
          },
          "colorscale": {
           "diverging": [
            [
             0,
             "#8e0152"
            ],
            [
             0.1,
             "#c51b7d"
            ],
            [
             0.2,
             "#de77ae"
            ],
            [
             0.3,
             "#f1b6da"
            ],
            [
             0.4,
             "#fde0ef"
            ],
            [
             0.5,
             "#f7f7f7"
            ],
            [
             0.6,
             "#e6f5d0"
            ],
            [
             0.7,
             "#b8e186"
            ],
            [
             0.8,
             "#7fbc41"
            ],
            [
             0.9,
             "#4d9221"
            ],
            [
             1,
             "#276419"
            ]
           ],
           "sequential": [
            [
             0,
             "#0d0887"
            ],
            [
             0.1111111111111111,
             "#46039f"
            ],
            [
             0.2222222222222222,
             "#7201a8"
            ],
            [
             0.3333333333333333,
             "#9c179e"
            ],
            [
             0.4444444444444444,
             "#bd3786"
            ],
            [
             0.5555555555555556,
             "#d8576b"
            ],
            [
             0.6666666666666666,
             "#ed7953"
            ],
            [
             0.7777777777777778,
             "#fb9f3a"
            ],
            [
             0.8888888888888888,
             "#fdca26"
            ],
            [
             1,
             "#f0f921"
            ]
           ],
           "sequentialminus": [
            [
             0,
             "#0d0887"
            ],
            [
             0.1111111111111111,
             "#46039f"
            ],
            [
             0.2222222222222222,
             "#7201a8"
            ],
            [
             0.3333333333333333,
             "#9c179e"
            ],
            [
             0.4444444444444444,
             "#bd3786"
            ],
            [
             0.5555555555555556,
             "#d8576b"
            ],
            [
             0.6666666666666666,
             "#ed7953"
            ],
            [
             0.7777777777777778,
             "#fb9f3a"
            ],
            [
             0.8888888888888888,
             "#fdca26"
            ],
            [
             1,
             "#f0f921"
            ]
           ]
          },
          "colorway": [
           "#636efa",
           "#EF553B",
           "#00cc96",
           "#ab63fa",
           "#FFA15A",
           "#19d3f3",
           "#FF6692",
           "#B6E880",
           "#FF97FF",
           "#FECB52"
          ],
          "font": {
           "color": "#2a3f5f"
          },
          "geo": {
           "bgcolor": "white",
           "lakecolor": "white",
           "landcolor": "#E5ECF6",
           "showlakes": true,
           "showland": true,
           "subunitcolor": "white"
          },
          "hoverlabel": {
           "align": "left"
          },
          "hovermode": "closest",
          "mapbox": {
           "style": "light"
          },
          "paper_bgcolor": "white",
          "plot_bgcolor": "#E5ECF6",
          "polar": {
           "angularaxis": {
            "gridcolor": "white",
            "linecolor": "white",
            "ticks": ""
           },
           "bgcolor": "#E5ECF6",
           "radialaxis": {
            "gridcolor": "white",
            "linecolor": "white",
            "ticks": ""
           }
          },
          "scene": {
           "xaxis": {
            "backgroundcolor": "#E5ECF6",
            "gridcolor": "white",
            "gridwidth": 2,
            "linecolor": "white",
            "showbackground": true,
            "ticks": "",
            "zerolinecolor": "white"
           },
           "yaxis": {
            "backgroundcolor": "#E5ECF6",
            "gridcolor": "white",
            "gridwidth": 2,
            "linecolor": "white",
            "showbackground": true,
            "ticks": "",
            "zerolinecolor": "white"
           },
           "zaxis": {
            "backgroundcolor": "#E5ECF6",
            "gridcolor": "white",
            "gridwidth": 2,
            "linecolor": "white",
            "showbackground": true,
            "ticks": "",
            "zerolinecolor": "white"
           }
          },
          "shapedefaults": {
           "line": {
            "color": "#2a3f5f"
           }
          },
          "ternary": {
           "aaxis": {
            "gridcolor": "white",
            "linecolor": "white",
            "ticks": ""
           },
           "baxis": {
            "gridcolor": "white",
            "linecolor": "white",
            "ticks": ""
           },
           "bgcolor": "#E5ECF6",
           "caxis": {
            "gridcolor": "white",
            "linecolor": "white",
            "ticks": ""
           }
          },
          "title": {
           "x": 0.05
          },
          "xaxis": {
           "automargin": true,
           "gridcolor": "white",
           "linecolor": "white",
           "ticks": "",
           "title": {
            "standoff": 15
           },
           "zerolinecolor": "white",
           "zerolinewidth": 2
          },
          "yaxis": {
           "automargin": true,
           "gridcolor": "white",
           "linecolor": "white",
           "ticks": "",
           "title": {
            "standoff": 15
           },
           "zerolinecolor": "white",
           "zerolinewidth": 2
          }
         }
        },
        "width": 1000,
        "xaxis": {
         "fixedrange": true,
         "gridcolor": "#1f292f",
         "rangeslider": {
          "visible": true
         },
         "showgrid": true
        },
        "yaxis": {
         "gridcolor": "#1f292f",
         "showgrid": true
        }
       }
      }
     },
     "metadata": {},
     "output_type": "display_data"
    }
   ],
   "source": [
    "\n",
    "def plot_df(df):\n",
    "    fig = go.Figure()\n",
    "    fig.add_trace(go.Candlestick(\n",
    "        x=df.time, open=df.mid_o, high=df.mid_h, low=df.mid_l, close=df.mid_c,\n",
    "        line=dict(width=1), opacity=1,\n",
    "        increasing_fillcolor = \"#24A06B\",\n",
    "        decreasing_fillcolor = \"#CC2E3C\",\n",
    "        increasing_line_color = \"#2EC886\",\n",
    "        decreasing_line_color = \"#FF3A4C\"\n",
    "    ))\n",
    "    fig.update_layout(width=1000, height=400,\n",
    "                    margin=dict(l=10, r=10, b=10, t=10),\n",
    "                    font = dict(size=10, color=\"#e1e1e1\"),\n",
    "                    paper_bgcolor = \"#1e1e1e\",\n",
    "                    plot_bgcolor =  \"#1e1e1e\",\n",
    "                    )\n",
    "    fig.update_xaxes(\n",
    "        gridcolor = \"#1f292f\",\n",
    "        showgrid=True, fixedrange=True, rangeslider=dict(visible=True)\n",
    "    )\n",
    "    fig.update_yaxes(\n",
    "        gridcolor = \"#1f292f\",\n",
    "        showgrid=True,\n",
    "    )\n",
    "    return fig\n",
    "\n",
    "plot_fig = plot_df(df_to_plot)\n",
    "plot_fig.show()"
   ]
  },
  {
   "cell_type": "code",
   "execution_count": null,
   "metadata": {},
   "outputs": [],
   "source": []
  },
  {
   "cell_type": "markdown",
   "metadata": {},
   "source": [
    "## Analisis de la estrategia\n",
    "\n",
    "#### Definiciones previas\n",
    "- Inicio del dia de NY en formato Z: 04:00:00.000000000Z:\n",
    "    - 2024-07-03T04:00:00.000000000Z\n",
    "- Timeframe para Liquidity Grab NY 09:30-10:00 am:\n",
    "    -   2024-07-03T13:30:00.000000000Z\n",
    "- Silverbullet Start NY 10:00am:\n",
    "    -   2024-07-03T14:00:00.000000000Z\n",
    "- Silverbullet End NY 11:00am :\n",
    "    -   2024-07-03T15:00:00.000000000Z\n",
    "- Fin de sesion NY 17:00:\n",
    "    -   2024-07-03T21:00:00.000000000Z\n",
    "#### Parametros de la estrategia:\n",
    "- Para considerar una toma de liquidez, debo considerar la siguiente condición:\n",
    "    - \n",
    "#### Criterios de la estrategia:\n",
    "- Pre-Session:\n",
    "    - Entre las 09:30 y 10:am NY, buscar una toma de liquidez.\n",
    "\n"
   ]
  },
  {
   "cell_type": "code",
   "execution_count": null,
   "metadata": {},
   "outputs": [],
   "source": []
  },
  {
   "cell_type": "code",
   "execution_count": null,
   "metadata": {},
   "outputs": [],
   "source": []
  },
  {
   "cell_type": "code",
   "execution_count": null,
   "metadata": {},
   "outputs": [],
   "source": []
  },
  {
   "cell_type": "code",
   "execution_count": null,
   "metadata": {},
   "outputs": [],
   "source": []
  },
  {
   "cell_type": "code",
   "execution_count": null,
   "metadata": {},
   "outputs": [],
   "source": []
  },
  {
   "cell_type": "markdown",
   "metadata": {},
   "source": [
    "# UTILIDADES A NECESITAR LUEGO"
   ]
  },
  {
   "cell_type": "code",
   "execution_count": 303,
   "metadata": {},
   "outputs": [
    {
     "name": "stdout",
     "output_type": "stream",
     "text": [
      "    A   B\n",
      "a   1   4\n",
      "b   2   5\n",
      "c   3   6\n",
      "d   7  10\n",
      "e   8  11\n",
      "f   9  12\n",
      "g  13  16\n",
      "h  14  17\n",
      "i  15  18\n",
      "j  19  22\n",
      "k  20  23\n",
      "l  21  24\n",
      "m  25  28\n",
      "n  26  29\n",
      "o  27  30\n"
     ]
    }
   ],
   "source": [
    "# Concatenar varios df. usar ignore_index = False para que no reescriba los indices\n",
    "\n",
    "import pandas as pd\n",
    "\n",
    "# Crear cinco DataFrames de ejemplo con índices personalizados\n",
    "df1 = pd.DataFrame({\n",
    "    'A': [1, 2, 3],\n",
    "    'B': [4, 5, 6]\n",
    "}, index=['a', 'b', 'c'])\n",
    "\n",
    "df2 = pd.DataFrame({\n",
    "    'A': [7, 8, 9],\n",
    "    'B': [10, 11, 12]\n",
    "}, index=['d', 'e', 'f'])\n",
    "\n",
    "df3 = pd.DataFrame({\n",
    "    'A': [13, 14, 15],\n",
    "    'B': [16, 17, 18]\n",
    "}, index=['g', 'h', 'i'])\n",
    "\n",
    "df4 = pd.DataFrame({\n",
    "    'A': [19, 20, 21],\n",
    "    'B': [22, 23, 24]\n",
    "}, index=['j', 'k', 'l'])\n",
    "\n",
    "df5 = pd.DataFrame({\n",
    "    'A': [25, 26, 27],\n",
    "    'B': [28, 29, 30]\n",
    "}, index=['m', 'n', 'o'])\n",
    "\n",
    "# Anexar los cinco DataFrames\n",
    "df_combined = pd.concat([df1, df2, df3, df4, df5])\n",
    "\n",
    "print(df_combined)"
   ]
  },
  {
   "cell_type": "code",
   "execution_count": null,
   "metadata": {},
   "outputs": [],
   "source": []
  },
  {
   "cell_type": "code",
   "execution_count": null,
   "metadata": {},
   "outputs": [],
   "source": []
  },
  {
   "cell_type": "code",
   "execution_count": null,
   "metadata": {},
   "outputs": [],
   "source": []
  },
  {
   "cell_type": "code",
   "execution_count": null,
   "metadata": {},
   "outputs": [],
   "source": []
  },
  {
   "cell_type": "code",
   "execution_count": null,
   "metadata": {},
   "outputs": [],
   "source": []
  },
  {
   "cell_type": "code",
   "execution_count": null,
   "metadata": {},
   "outputs": [],
   "source": []
  }
 ],
 "metadata": {
  "kernelspec": {
   "display_name": "Python 3",
   "language": "python",
   "name": "python3"
  },
  "language_info": {
   "codemirror_mode": {
    "name": "ipython",
    "version": 3
   },
   "file_extension": ".py",
   "mimetype": "text/x-python",
   "name": "python",
   "nbconvert_exporter": "python",
   "pygments_lexer": "ipython3",
   "version": "3.9.6"
  }
 },
 "nbformat": 4,
 "nbformat_minor": 2
}
