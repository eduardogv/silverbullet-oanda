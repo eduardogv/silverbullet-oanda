{
 "cells": [
  {
   "cell_type": "code",
   "execution_count": 41,
   "metadata": {},
   "outputs": [],
   "source": [
    "import requests\n",
    "import pandas as pd\n",
    "import defs\n",
    "from datetime import datetime, timedelta\n",
    "import pytz\n",
    "import defs"
   ]
  },
  {
   "cell_type": "markdown",
   "metadata": {},
   "source": [
    "Debo obtener la data de ESTA semana. Parametros en RFC3339.  \n",
    "Considerando que solo obtengo 500 velas por llamada de la API y que cada dia tengo 1440 velasde M1, tengo que hacer 3 llamadas de la API por cada dia de la semana.\n",
    "- Inicio: 2024-06-24T04:00:00.000000000Z  #hora de NY UTC-4 para esta semana\n",
    "- Inicio: 2024-06-24T04:00:00.000000000Z  \n",
    "  \n",
    "El API nos regresa de forma nativa la hora UTC-0 con la Z, por lo que la convertiremos a UTC-4 (hora actual de NY).  \n",
    "Notar que en RFC339, la variable Z se usa para indicar que es UTC+0, por lo que la usare siempre (https://medium.easyread.co/understanding-about-rfc-3339-for-datetime-formatting-in-software-engineering-940aa5d5f68a).  \n"
   ]
  },
  {
   "cell_type": "code",
   "execution_count": 30,
   "metadata": {},
   "outputs": [
    {
     "name": "stdout",
     "output_type": "stream",
     "text": [
      "Hora actual en Nueva York: 2024-06-26T15:03:33.486168Z\n"
     ]
    }
   ],
   "source": [
    "#Funcion para obtener hora actual de NY en formato Z UTC-0\n",
    "import pytz\n",
    "from datetime import datetime\n",
    "\n",
    "def obtener_hora_nueva_york_rfc3339():\n",
    "    # Definir la zona horaria de Nueva York\n",
    "    zona_horaria_ny = pytz.timezone('America/New_York')\n",
    "\n",
    "    # Obtener la fecha y hora actual en la zona horaria de Nueva York\n",
    "    ahora_ny = datetime.now(zona_horaria_ny)\n",
    "\n",
    "    # Formatear la fecha y hora en el formato deseado\n",
    "    hora_formateada = ahora_ny.strftime(\"%Y-%m-%dT%H:%M:%S.%fZ\")\n",
    "\n",
    "    return hora_formateada\n",
    "\n",
    "# Ejemplo de uso\n",
    "hora_actual_ny = obtener_hora_nueva_york_rfc3339()\n",
    "print(\"Hora actual en Nueva York:\", hora_actual_ny)\n"
   ]
  },
  {
   "cell_type": "markdown",
   "metadata": {},
   "source": [
    "Voy a pedile a a API que me entregue las velas los ultimos 7 dias siguiendo la hora de ny que es -4 . Yo manualmente le pongo la hora de inicio para simplificar este paso, luego tendra que ser automatizado."
   ]
  },
  {
   "cell_type": "code",
   "execution_count": 66,
   "metadata": {},
   "outputs": [
    {
     "data": {
      "text/plain": [
       "'2024-06-21T04:11:50.257508Z'"
      ]
     },
     "execution_count": 66,
     "metadata": {},
     "output_type": "execute_result"
    }
   ],
   "source": [
    "now_time = obtener_hora_nueva_york_rfc3339()\n",
    "\n",
    "def restar_siete_dias(fecha_hora_rfc3339):\n",
    "    # Convertir la cadena RFC3339 a un objeto datetime\n",
    "    fecha_hora = datetime.strptime(fecha_hora_rfc3339, \"%Y-%m-%dT%H:%M:%S.%fZ\")\n",
    "    \n",
    "    # Restar 7 días a la fecha y hora\n",
    "    fecha_hora_menos_siete_dias = fecha_hora - timedelta(days=7)\n",
    "    \n",
    "    # Formatear la nueva fecha y hora en formato RFC3339 con la 'Z'\n",
    "    nueva_fecha_hora_rfc3339 = fecha_hora_menos_siete_dias.strftime(\"%Y-%m-%dT%H:%M:%S.%fZ\")\n",
    "    \n",
    "    return nueva_fecha_hora_rfc3339\n",
    "\n",
    "restar_siete_dias(now_time)\n"
   ]
  },
  {
   "cell_type": "code",
   "execution_count": 67,
   "metadata": {},
   "outputs": [
    {
     "name": "stdout",
     "output_type": "stream",
     "text": [
      "Fecha y hora original: 2024-06-21T01:28:14.265493Z\n",
      "Fecha y hora a las 04:00: 2024-06-21T04:00:00.000000Z\n"
     ]
    }
   ],
   "source": [
    "# Obtener las 04:00 hras de la hora del dia hace 7 dias\n",
    "\n",
    "def obtener_hora_04_00(fecha_hora_rfc3339):\n",
    "    # Convertir la cadena RFC3339 a un objeto datetime\n",
    "    fecha_hora = datetime.strptime(fecha_hora_rfc3339, \"%Y-%m-%dT%H:%M:%S.%fZ\")\n",
    "    \n",
    "    # Crear un nuevo objeto datetime con la hora fijada a las 04:00 del mismo día\n",
    "    fecha_04_00 = fecha_hora.replace(hour=4, minute=0, second=0, microsecond=0)\n",
    "    \n",
    "    # Formatear la nueva fecha y hora en formato RFC3339 con la 'Z'\n",
    "    nueva_fecha_hora_rfc3339 = fecha_04_00.strftime(\"%Y-%m-%dT%H:%M:%S.%fZ\")\n",
    "    \n",
    "    return nueva_fecha_hora_rfc3339\n",
    "\n",
    "# Ejemplo de uso\n",
    "fecha_hora_original = \"2024-06-21T01:28:14.265493Z\"\n",
    "fecha_hora_04_00 = obtener_hora_04_00(fecha_hora_original)\n",
    "print(\"Fecha y hora original:\", fecha_hora_original)\n",
    "print(\"Fecha y hora a las 04:00:\", fecha_hora_04_00)\n",
    "\n"
   ]
  },
  {
   "cell_type": "code",
   "execution_count": 73,
   "metadata": {},
   "outputs": [
    {
     "data": {
      "text/plain": [
       "'2024-06-21T04:00:00.000000Z'"
      ]
     },
     "execution_count": 73,
     "metadata": {},
     "output_type": "execute_result"
    }
   ],
   "source": [
    "# Intento de obtener la fecha de inicio\n",
    "\n",
    "hora_actual_ny = obtener_hora_nueva_york_rfc3339()\n",
    "hace_7_dias = restar_siete_dias(hora_actual_ny)\n",
    "hace_7_dias_4hrs = obtener_hora_04_00(hace_7_dias)\n",
    "hace_7_dias_4hrs #esta es mi hora de inicio"
   ]
  },
  {
   "cell_type": "code",
   "execution_count": null,
   "metadata": {},
   "outputs": [],
   "source": []
  },
  {
   "cell_type": "markdown",
   "metadata": {},
   "source": [
    "Llamada al APi"
   ]
  },
  {
   "cell_type": "code",
   "execution_count": 91,
   "metadata": {},
   "outputs": [
    {
     "data": {
      "text/plain": [
       "dict_keys(['instrument', 'granularity', 'candles'])"
      ]
     },
     "execution_count": 91,
     "metadata": {},
     "output_type": "execute_result"
    }
   ],
   "source": [
    "session = requests.Session()\n",
    "instrument = \"EUR_USD\"\n",
    "granularity = \"M1\"\n",
    "starting_date = hace_7_dias_4hrs\n",
    "url = f\"{defs.OANDA_URL}/instruments/{instrument}/candles\"\n",
    "params = {\n",
    "    'granularity' : granularity,\n",
    "    'price' : \"MBA\",\n",
    "    'from' : starting_date,\n",
    "    'count': 5000\n",
    "}\n",
    "\n",
    "response = session.get(url, params=params, headers=defs.SECURE_HEADER)\n",
    "data = response.json()\n",
    "data.keys()"
   ]
  },
  {
   "cell_type": "code",
   "execution_count": 75,
   "metadata": {},
   "outputs": [
    {
     "data": {
      "text/plain": [
       "5000"
      ]
     },
     "execution_count": 75,
     "metadata": {},
     "output_type": "execute_result"
    }
   ],
   "source": [
    "len(data['candles'])"
   ]
  },
  {
   "cell_type": "code",
   "execution_count": 76,
   "metadata": {},
   "outputs": [],
   "source": [
    "prices = [\"mid\", \"bid\", \"ask\"]\n",
    "ohlc = [\"o\", \"h\", \"l\", \"c\"]"
   ]
  },
  {
   "cell_type": "code",
   "execution_count": 77,
   "metadata": {},
   "outputs": [
    {
     "name": "stdout",
     "output_type": "stream",
     "text": [
      "{'time': '2024-06-21T04:00:00.000000000Z', 'volume': 28, 'mid_o': '1.07162', 'mid_h': '1.07164', 'mid_l': '1.07156', 'mid_c': '1.07159', 'bid_o': '1.07155', 'bid_h': '1.07156', 'bid_l': '1.07149', 'bid_c': '1.07152', 'ask_o': '1.07170', 'ask_h': '1.07172', 'ask_l': '1.07164', 'ask_c': '1.07166'}\n"
     ]
    }
   ],
   "source": [
    "our_data = []\n",
    "\n",
    "for candle in data[\"candles\"]:\n",
    "    if candle[\"complete\"] == False:\n",
    "        continue\n",
    "    new_dict = {}\n",
    "    new_dict[\"time\"] = candle[\"time\"]\n",
    "    new_dict[\"volume\"] = candle[\"volume\"]\n",
    "    for price in prices:\n",
    "        for oh in ohlc:\n",
    "            new_dict[f\"{price}_{oh}\"] = candle[price][oh]\n",
    "    our_data.append(new_dict)\n",
    "\n",
    "print (our_data[0])"
   ]
  },
  {
   "cell_type": "code",
   "execution_count": 78,
   "metadata": {},
   "outputs": [
    {
     "data": {
      "text/html": [
       "<div>\n",
       "<style scoped>\n",
       "    .dataframe tbody tr th:only-of-type {\n",
       "        vertical-align: middle;\n",
       "    }\n",
       "\n",
       "    .dataframe tbody tr th {\n",
       "        vertical-align: top;\n",
       "    }\n",
       "\n",
       "    .dataframe thead th {\n",
       "        text-align: right;\n",
       "    }\n",
       "</style>\n",
       "<table border=\"1\" class=\"dataframe\">\n",
       "  <thead>\n",
       "    <tr style=\"text-align: right;\">\n",
       "      <th></th>\n",
       "      <th>time</th>\n",
       "      <th>volume</th>\n",
       "      <th>mid_o</th>\n",
       "      <th>mid_h</th>\n",
       "      <th>mid_l</th>\n",
       "      <th>mid_c</th>\n",
       "      <th>bid_o</th>\n",
       "      <th>bid_h</th>\n",
       "      <th>bid_l</th>\n",
       "      <th>bid_c</th>\n",
       "      <th>ask_o</th>\n",
       "      <th>ask_h</th>\n",
       "      <th>ask_l</th>\n",
       "      <th>ask_c</th>\n",
       "    </tr>\n",
       "  </thead>\n",
       "  <tbody>\n",
       "    <tr>\n",
       "      <th>0</th>\n",
       "      <td>2024-06-21T04:00:00.000000000Z</td>\n",
       "      <td>28</td>\n",
       "      <td>1.07162</td>\n",
       "      <td>1.07164</td>\n",
       "      <td>1.07156</td>\n",
       "      <td>1.07159</td>\n",
       "      <td>1.07155</td>\n",
       "      <td>1.07156</td>\n",
       "      <td>1.07149</td>\n",
       "      <td>1.07152</td>\n",
       "      <td>1.07170</td>\n",
       "      <td>1.07172</td>\n",
       "      <td>1.07164</td>\n",
       "      <td>1.07166</td>\n",
       "    </tr>\n",
       "    <tr>\n",
       "      <th>1</th>\n",
       "      <td>2024-06-21T04:01:00.000000000Z</td>\n",
       "      <td>12</td>\n",
       "      <td>1.07158</td>\n",
       "      <td>1.07162</td>\n",
       "      <td>1.07156</td>\n",
       "      <td>1.07160</td>\n",
       "      <td>1.07151</td>\n",
       "      <td>1.07155</td>\n",
       "      <td>1.07149</td>\n",
       "      <td>1.07152</td>\n",
       "      <td>1.07166</td>\n",
       "      <td>1.07169</td>\n",
       "      <td>1.07164</td>\n",
       "      <td>1.07167</td>\n",
       "    </tr>\n",
       "    <tr>\n",
       "      <th>2</th>\n",
       "      <td>2024-06-21T04:02:00.000000000Z</td>\n",
       "      <td>12</td>\n",
       "      <td>1.07158</td>\n",
       "      <td>1.07158</td>\n",
       "      <td>1.07153</td>\n",
       "      <td>1.07153</td>\n",
       "      <td>1.07150</td>\n",
       "      <td>1.07150</td>\n",
       "      <td>1.07145</td>\n",
       "      <td>1.07145</td>\n",
       "      <td>1.07166</td>\n",
       "      <td>1.07166</td>\n",
       "      <td>1.07160</td>\n",
       "      <td>1.07161</td>\n",
       "    </tr>\n",
       "    <tr>\n",
       "      <th>3</th>\n",
       "      <td>2024-06-21T04:03:00.000000000Z</td>\n",
       "      <td>20</td>\n",
       "      <td>1.07154</td>\n",
       "      <td>1.07156</td>\n",
       "      <td>1.07154</td>\n",
       "      <td>1.07155</td>\n",
       "      <td>1.07147</td>\n",
       "      <td>1.07149</td>\n",
       "      <td>1.07147</td>\n",
       "      <td>1.07148</td>\n",
       "      <td>1.07162</td>\n",
       "      <td>1.07163</td>\n",
       "      <td>1.07162</td>\n",
       "      <td>1.07162</td>\n",
       "    </tr>\n",
       "    <tr>\n",
       "      <th>4</th>\n",
       "      <td>2024-06-21T04:04:00.000000000Z</td>\n",
       "      <td>15</td>\n",
       "      <td>1.07153</td>\n",
       "      <td>1.07160</td>\n",
       "      <td>1.07153</td>\n",
       "      <td>1.07160</td>\n",
       "      <td>1.07146</td>\n",
       "      <td>1.07153</td>\n",
       "      <td>1.07146</td>\n",
       "      <td>1.07153</td>\n",
       "      <td>1.07160</td>\n",
       "      <td>1.07168</td>\n",
       "      <td>1.07160</td>\n",
       "      <td>1.07167</td>\n",
       "    </tr>\n",
       "    <tr>\n",
       "      <th>...</th>\n",
       "      <td>...</td>\n",
       "      <td>...</td>\n",
       "      <td>...</td>\n",
       "      <td>...</td>\n",
       "      <td>...</td>\n",
       "      <td>...</td>\n",
       "      <td>...</td>\n",
       "      <td>...</td>\n",
       "      <td>...</td>\n",
       "      <td>...</td>\n",
       "      <td>...</td>\n",
       "      <td>...</td>\n",
       "      <td>...</td>\n",
       "      <td>...</td>\n",
       "    </tr>\n",
       "    <tr>\n",
       "      <th>4995</th>\n",
       "      <td>2024-06-26T16:19:00.000000000Z</td>\n",
       "      <td>58</td>\n",
       "      <td>1.06857</td>\n",
       "      <td>1.06866</td>\n",
       "      <td>1.06857</td>\n",
       "      <td>1.06866</td>\n",
       "      <td>1.06850</td>\n",
       "      <td>1.06859</td>\n",
       "      <td>1.06850</td>\n",
       "      <td>1.06859</td>\n",
       "      <td>1.06864</td>\n",
       "      <td>1.06873</td>\n",
       "      <td>1.06864</td>\n",
       "      <td>1.06873</td>\n",
       "    </tr>\n",
       "    <tr>\n",
       "      <th>4996</th>\n",
       "      <td>2024-06-26T16:20:00.000000000Z</td>\n",
       "      <td>50</td>\n",
       "      <td>1.06867</td>\n",
       "      <td>1.06874</td>\n",
       "      <td>1.06867</td>\n",
       "      <td>1.06868</td>\n",
       "      <td>1.06860</td>\n",
       "      <td>1.06867</td>\n",
       "      <td>1.06860</td>\n",
       "      <td>1.06860</td>\n",
       "      <td>1.06874</td>\n",
       "      <td>1.06881</td>\n",
       "      <td>1.06874</td>\n",
       "      <td>1.06875</td>\n",
       "    </tr>\n",
       "    <tr>\n",
       "      <th>4997</th>\n",
       "      <td>2024-06-26T16:21:00.000000000Z</td>\n",
       "      <td>33</td>\n",
       "      <td>1.06870</td>\n",
       "      <td>1.06871</td>\n",
       "      <td>1.06866</td>\n",
       "      <td>1.06868</td>\n",
       "      <td>1.06862</td>\n",
       "      <td>1.06864</td>\n",
       "      <td>1.06858</td>\n",
       "      <td>1.06861</td>\n",
       "      <td>1.06877</td>\n",
       "      <td>1.06878</td>\n",
       "      <td>1.06873</td>\n",
       "      <td>1.06876</td>\n",
       "    </tr>\n",
       "    <tr>\n",
       "      <th>4998</th>\n",
       "      <td>2024-06-26T16:22:00.000000000Z</td>\n",
       "      <td>69</td>\n",
       "      <td>1.06868</td>\n",
       "      <td>1.06874</td>\n",
       "      <td>1.06860</td>\n",
       "      <td>1.06861</td>\n",
       "      <td>1.06860</td>\n",
       "      <td>1.06867</td>\n",
       "      <td>1.06853</td>\n",
       "      <td>1.06854</td>\n",
       "      <td>1.06876</td>\n",
       "      <td>1.06881</td>\n",
       "      <td>1.06868</td>\n",
       "      <td>1.06868</td>\n",
       "    </tr>\n",
       "    <tr>\n",
       "      <th>4999</th>\n",
       "      <td>2024-06-26T16:23:00.000000000Z</td>\n",
       "      <td>56</td>\n",
       "      <td>1.06862</td>\n",
       "      <td>1.06868</td>\n",
       "      <td>1.06852</td>\n",
       "      <td>1.06852</td>\n",
       "      <td>1.06855</td>\n",
       "      <td>1.06861</td>\n",
       "      <td>1.06844</td>\n",
       "      <td>1.06844</td>\n",
       "      <td>1.06869</td>\n",
       "      <td>1.06875</td>\n",
       "      <td>1.06859</td>\n",
       "      <td>1.06859</td>\n",
       "    </tr>\n",
       "  </tbody>\n",
       "</table>\n",
       "<p>5000 rows × 14 columns</p>\n",
       "</div>"
      ],
      "text/plain": [
       "                                time  volume    mid_o    mid_h    mid_l  \\\n",
       "0     2024-06-21T04:00:00.000000000Z      28  1.07162  1.07164  1.07156   \n",
       "1     2024-06-21T04:01:00.000000000Z      12  1.07158  1.07162  1.07156   \n",
       "2     2024-06-21T04:02:00.000000000Z      12  1.07158  1.07158  1.07153   \n",
       "3     2024-06-21T04:03:00.000000000Z      20  1.07154  1.07156  1.07154   \n",
       "4     2024-06-21T04:04:00.000000000Z      15  1.07153  1.07160  1.07153   \n",
       "...                              ...     ...      ...      ...      ...   \n",
       "4995  2024-06-26T16:19:00.000000000Z      58  1.06857  1.06866  1.06857   \n",
       "4996  2024-06-26T16:20:00.000000000Z      50  1.06867  1.06874  1.06867   \n",
       "4997  2024-06-26T16:21:00.000000000Z      33  1.06870  1.06871  1.06866   \n",
       "4998  2024-06-26T16:22:00.000000000Z      69  1.06868  1.06874  1.06860   \n",
       "4999  2024-06-26T16:23:00.000000000Z      56  1.06862  1.06868  1.06852   \n",
       "\n",
       "        mid_c    bid_o    bid_h    bid_l    bid_c    ask_o    ask_h    ask_l  \\\n",
       "0     1.07159  1.07155  1.07156  1.07149  1.07152  1.07170  1.07172  1.07164   \n",
       "1     1.07160  1.07151  1.07155  1.07149  1.07152  1.07166  1.07169  1.07164   \n",
       "2     1.07153  1.07150  1.07150  1.07145  1.07145  1.07166  1.07166  1.07160   \n",
       "3     1.07155  1.07147  1.07149  1.07147  1.07148  1.07162  1.07163  1.07162   \n",
       "4     1.07160  1.07146  1.07153  1.07146  1.07153  1.07160  1.07168  1.07160   \n",
       "...       ...      ...      ...      ...      ...      ...      ...      ...   \n",
       "4995  1.06866  1.06850  1.06859  1.06850  1.06859  1.06864  1.06873  1.06864   \n",
       "4996  1.06868  1.06860  1.06867  1.06860  1.06860  1.06874  1.06881  1.06874   \n",
       "4997  1.06868  1.06862  1.06864  1.06858  1.06861  1.06877  1.06878  1.06873   \n",
       "4998  1.06861  1.06860  1.06867  1.06853  1.06854  1.06876  1.06881  1.06868   \n",
       "4999  1.06852  1.06855  1.06861  1.06844  1.06844  1.06869  1.06875  1.06859   \n",
       "\n",
       "        ask_c  \n",
       "0     1.07166  \n",
       "1     1.07167  \n",
       "2     1.07161  \n",
       "3     1.07162  \n",
       "4     1.07167  \n",
       "...       ...  \n",
       "4995  1.06873  \n",
       "4996  1.06875  \n",
       "4997  1.06876  \n",
       "4998  1.06868  \n",
       "4999  1.06859  \n",
       "\n",
       "[5000 rows x 14 columns]"
      ]
     },
     "execution_count": 78,
     "metadata": {},
     "output_type": "execute_result"
    }
   ],
   "source": [
    "candles_df = pd.DataFrame.from_dict(our_data)\n",
    "candles_df"
   ]
  },
  {
   "cell_type": "code",
   "execution_count": 90,
   "metadata": {},
   "outputs": [
    {
     "name": "stdout",
     "output_type": "stream",
     "text": [
      "4999    2024-06-26T16:23:00.000000000Z\n",
      "Name: time, dtype: object\n"
     ]
    }
   ],
   "source": [
    "a = candles_df.tail(1)['time']"
   ]
  },
  {
   "cell_type": "code",
   "execution_count": null,
   "metadata": {},
   "outputs": [],
   "source": []
  },
  {
   "cell_type": "code",
   "execution_count": null,
   "metadata": {},
   "outputs": [],
   "source": []
  },
  {
   "cell_type": "code",
   "execution_count": null,
   "metadata": {},
   "outputs": [],
   "source": []
  },
  {
   "cell_type": "code",
   "execution_count": null,
   "metadata": {},
   "outputs": [],
   "source": []
  },
  {
   "cell_type": "code",
   "execution_count": null,
   "metadata": {},
   "outputs": [],
   "source": []
  },
  {
   "cell_type": "code",
   "execution_count": null,
   "metadata": {},
   "outputs": [],
   "source": []
  },
  {
   "cell_type": "code",
   "execution_count": null,
   "metadata": {},
   "outputs": [],
   "source": []
  },
  {
   "cell_type": "code",
   "execution_count": 40,
   "metadata": {},
   "outputs": [
    {
     "name": "stdout",
     "output_type": "stream",
     "text": [
      "DataFrame original:\n",
      "   Nombre  Edad     Ciudad\n",
      "0     Ana    23     Madrid\n",
      "1    Luis    34  Barcelona\n",
      "2     Ana    23     Madrid\n",
      "3  Carlos    45   Valencia\n",
      "4    Luis    34  Barcelona\n",
      "\n",
      "DataFrame sin duplicados:\n",
      "   Nombre  Edad     Ciudad\n",
      "0     Ana    23     Madrid\n",
      "1    Luis    34  Barcelona\n",
      "3  Carlos    45   Valencia\n"
     ]
    }
   ],
   "source": [
    "#Como eliminar el duplicado, hacer luego de juntar los dataframes\n",
    "import pandas as pd\n",
    "\n",
    "# Crear un DataFrame de ejemplo\n",
    "data = {'Nombre': ['Ana', 'Luis', 'Ana', 'Carlos', 'Luis'],\n",
    "        'Edad': [23, 34, 23, 45, 34],\n",
    "        'Ciudad': ['Madrid', 'Barcelona', 'Madrid', 'Valencia', 'Barcelona']}\n",
    "\n",
    "df = pd.DataFrame(data)\n",
    "\n",
    "# Mostrar el DataFrame original\n",
    "print(\"DataFrame original:\")\n",
    "print(df)\n",
    "\n",
    "# Eliminar filas duplicadas\n",
    "df_sin_duplicados = df.drop_duplicates()\n",
    "\n",
    "# Mostrar el DataFrame sin duplicados\n",
    "print(\"\\nDataFrame sin duplicados:\")\n",
    "print(df_sin_duplicados)"
   ]
  },
  {
   "cell_type": "code",
   "execution_count": null,
   "metadata": {},
   "outputs": [],
   "source": []
  },
  {
   "cell_type": "code",
   "execution_count": null,
   "metadata": {},
   "outputs": [],
   "source": []
  }
 ],
 "metadata": {
  "kernelspec": {
   "display_name": "Python 3",
   "language": "python",
   "name": "python3"
  },
  "language_info": {
   "codemirror_mode": {
    "name": "ipython",
    "version": 3
   },
   "file_extension": ".py",
   "mimetype": "text/x-python",
   "name": "python",
   "nbconvert_exporter": "python",
   "pygments_lexer": "ipython3",
   "version": "3.9.6"
  }
 },
 "nbformat": 4,
 "nbformat_minor": 2
}
