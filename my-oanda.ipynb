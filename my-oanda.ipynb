{
 "cells": [
  {
   "cell_type": "code",
   "execution_count": 15,
   "metadata": {},
   "outputs": [
    {
     "name": "stderr",
     "output_type": "stream",
     "text": [
      "/Users/egrados/Library/Python/3.9/lib/python/site-packages/urllib3/__init__.py:34: NotOpenSSLWarning: urllib3 v2.0 only supports OpenSSL 1.1.1+, currently the 'ssl' module is compiled with 'LibreSSL 2.8.3'. See: https://github.com/urllib3/urllib3/issues/3020\n",
      "  warnings.warn(\n"
     ]
    }
   ],
   "source": [
    "import requests\n",
    "import pandas as pd\n",
    "import defs\n",
    "from datetime import datetime\n",
    "import pytz"
   ]
  },
  {
   "cell_type": "markdown",
   "metadata": {},
   "source": [
    "Debo obtener la data de ESTA semana. Parametros en RFC3339.  \n",
    "Considerando que solo obtengo 500 velas por llamada de la API y que cada dia tengo 1440 velasde M1, tengo que hacer 3 llamadas de la API por cada dia de la semana.\n",
    "- Inicio: 2024-06-24T04:00:00.000000000Z  #hora de NY UTC-4 para esta semana\n",
    "- Inicio: 2024-06-24T04:00:00.000000000Z  \n",
    "  \n",
    "El API nos regresa de forma nativa la hora UTC-0 con la Z, por lo que la convertiremos a UTC-4 (hora actual de NY).  \n",
    "Notar que en RFC339, la variable Z se usa para indicar que es UTC+0, por lo que la usare siempre (https://medium.easyread.co/understanding-about-rfc-3339-for-datetime-formatting-in-software-engineering-940aa5d5f68a).  \n"
   ]
  },
  {
   "cell_type": "code",
   "execution_count": 30,
   "metadata": {},
   "outputs": [
    {
     "name": "stdout",
     "output_type": "stream",
     "text": [
      "Hora actual en Nueva York: 2024-06-26T15:03:33.486168Z\n"
     ]
    }
   ],
   "source": [
    "#Funcion para obtener hora actual de NY en formato Z UTC-0\n",
    "import pytz\n",
    "from datetime import datetime\n",
    "\n",
    "def obtener_hora_nueva_york_rfc3339():\n",
    "    # Definir la zona horaria de Nueva York\n",
    "    zona_horaria_ny = pytz.timezone('America/New_York')\n",
    "\n",
    "    # Obtener la fecha y hora actual en la zona horaria de Nueva York\n",
    "    ahora_ny = datetime.now(zona_horaria_ny)\n",
    "\n",
    "    # Formatear la fecha y hora en el formato deseado\n",
    "    hora_formateada = ahora_ny.strftime(\"%Y-%m-%dT%H:%M:%S.%fZ\")\n",
    "\n",
    "    return hora_formateada\n",
    "\n",
    "# Ejemplo de uso\n",
    "hora_actual_ny = obtener_hora_nueva_york_rfc3339()\n",
    "print(\"Hora actual en Nueva York:\", hora_actual_ny)\n"
   ]
  },
  {
   "cell_type": "code",
   "execution_count": 20,
   "metadata": {},
   "outputs": [
    {
     "name": "stdout",
     "output_type": "stream",
     "text": [
      "Fecha y hora original: 2023-05-25T14:32:15.123456Z\n",
      "Fecha y hora 7 días antes: 2023-05-18T14:32:15.123456Z\n"
     ]
    }
   ],
   "source": [
    "from datetime import datetime, timedelta\n",
    "\n",
    "def restar_siete_dias(fecha_hora_rfc3339):\n",
    "    # Convertir la cadena RFC3339 a un objeto datetime\n",
    "    fecha_hora = datetime.strptime(fecha_hora_rfc3339, \"%Y-%m-%dT%H:%M:%S.%fZ\")\n",
    "    \n",
    "    # Restar 7 días a la fecha y hora\n",
    "    fecha_hora_menos_siete_dias = fecha_hora - timedelta(days=7)\n",
    "    \n",
    "    # Formatear la nueva fecha y hora en formato RFC3339 con la 'Z'\n",
    "    nueva_fecha_hora_rfc3339 = fecha_hora_menos_siete_dias.strftime(\"%Y-%m-%dT%H:%M:%S.%fZ\")\n",
    "    \n",
    "    return nueva_fecha_hora_rfc3339\n",
    "\n",
    "# Ejemplo de uso\n",
    "fecha_hora_original = \"2023-05-25T14:32:15.123456Z\"\n",
    "fecha_hora_menos_siete_dias = restar_siete_dias(fecha_hora_original)\n",
    "print(\"Fecha y hora original:\", fecha_hora_original)\n",
    "print(\"Fecha y hora 7 días antes:\", fecha_hora_menos_siete_dias)\n"
   ]
  },
  {
   "cell_type": "markdown",
   "metadata": {},
   "source": [
    "Voy a pedile a a API que me entregue las velas los ultimos 7 dias siguiendo la hora de ny que es -4 . Yo manualmente le pongo la hora de inicio para simplificar este paso, luego tendra que ser automatizado."
   ]
  },
  {
   "cell_type": "code",
   "execution_count": 19,
   "metadata": {},
   "outputs": [],
   "source": [
    "now_time = obtener_hora_nueva_york_rfc3339()\n"
   ]
  },
  {
   "cell_type": "code",
   "execution_count": null,
   "metadata": {},
   "outputs": [],
   "source": [
    "def testing(x):\n",
    "    return x*x\n"
   ]
  },
  {
   "cell_type": "code",
   "execution_count": null,
   "metadata": {},
   "outputs": [],
   "source": []
  },
  {
   "cell_type": "code",
   "execution_count": null,
   "metadata": {},
   "outputs": [],
   "source": []
  },
  {
   "cell_type": "code",
   "execution_count": null,
   "metadata": {},
   "outputs": [],
   "source": []
  },
  {
   "cell_type": "code",
   "execution_count": null,
   "metadata": {},
   "outputs": [],
   "source": []
  },
  {
   "cell_type": "code",
   "execution_count": null,
   "metadata": {},
   "outputs": [],
   "source": []
  },
  {
   "cell_type": "code",
   "execution_count": null,
   "metadata": {},
   "outputs": [],
   "source": []
  },
  {
   "cell_type": "code",
   "execution_count": null,
   "metadata": {},
   "outputs": [],
   "source": []
  }
 ],
 "metadata": {
  "kernelspec": {
   "display_name": "Python 3",
   "language": "python",
   "name": "python3"
  },
  "language_info": {
   "codemirror_mode": {
    "name": "ipython",
    "version": 3
   },
   "file_extension": ".py",
   "mimetype": "text/x-python",
   "name": "python",
   "nbconvert_exporter": "python",
   "pygments_lexer": "ipython3",
   "version": "3.9.6"
  }
 },
 "nbformat": 4,
 "nbformat_minor": 2
}
