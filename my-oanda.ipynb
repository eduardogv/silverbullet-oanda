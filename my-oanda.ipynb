{
 "cells": [
  {
   "cell_type": "code",
   "execution_count": 41,
   "metadata": {},
   "outputs": [],
   "source": [
    "import requests\n",
    "import pandas as pd\n",
    "import defs\n",
    "from datetime import datetime, timedelta\n",
    "import pytz\n",
    "import defs"
   ]
  },
  {
   "cell_type": "markdown",
   "metadata": {},
   "source": [
    "Debo obtener la data de ESTA semana. Parametros en RFC3339.  \n",
    "Considerando que solo obtengo 500 velas por llamada de la API y que cada dia tengo 1440 velasde M1, tengo que hacer 3 llamadas de la API por cada dia de la semana.\n",
    "- Inicio: 2024-06-24T04:00:00.000000000Z  #hora de NY UTC-4 para esta semana\n",
    "- Inicio: 2024-06-24T04:00:00.000000000Z  \n",
    "  \n",
    "El API nos regresa de forma nativa la hora UTC-0 con la Z, por lo que la convertiremos a UTC-4 (hora actual de NY).  \n",
    "Notar que en RFC339, la variable Z se usa para indicar que es UTC+0, por lo que la usare siempre (https://medium.easyread.co/understanding-about-rfc-3339-for-datetime-formatting-in-software-engineering-940aa5d5f68a).  \n"
   ]
  },
  {
   "cell_type": "code",
   "execution_count": 30,
   "metadata": {},
   "outputs": [
    {
     "name": "stdout",
     "output_type": "stream",
     "text": [
      "Hora actual en Nueva York: 2024-06-26T15:03:33.486168Z\n"
     ]
    }
   ],
   "source": [
    "#Funcion para obtener hora actual de NY en formato Z UTC-0\n",
    "import pytz\n",
    "from datetime import datetime\n",
    "\n",
    "def obtener_hora_nueva_york_rfc3339():\n",
    "    # Definir la zona horaria de Nueva York\n",
    "    zona_horaria_ny = pytz.timezone('America/New_York')\n",
    "\n",
    "    # Obtener la fecha y hora actual en la zona horaria de Nueva York\n",
    "    ahora_ny = datetime.now(zona_horaria_ny)\n",
    "\n",
    "    # Formatear la fecha y hora en el formato deseado\n",
    "    hora_formateada = ahora_ny.strftime(\"%Y-%m-%dT%H:%M:%S.%fZ\")\n",
    "\n",
    "    return hora_formateada\n",
    "\n",
    "# Ejemplo de uso\n",
    "hora_actual_ny = obtener_hora_nueva_york_rfc3339()\n",
    "print(\"Hora actual en Nueva York:\", hora_actual_ny)\n"
   ]
  },
  {
   "cell_type": "markdown",
   "metadata": {},
   "source": [
    "Voy a pedile a a API que me entregue las velas los ultimos 7 dias siguiendo la hora de ny que es -4 . Yo manualmente le pongo la hora de inicio para simplificar este paso, luego tendra que ser automatizado."
   ]
  },
  {
   "cell_type": "code",
   "execution_count": 97,
   "metadata": {},
   "outputs": [
    {
     "data": {
      "text/plain": [
       "'2024-06-23T03:32:52.251315Z'"
      ]
     },
     "execution_count": 97,
     "metadata": {},
     "output_type": "execute_result"
    }
   ],
   "source": [
    "now_time = obtener_hora_nueva_york_rfc3339()\n",
    "\n",
    "def restar_siete_dias(fecha_hora_rfc3339):\n",
    "    # Convertir la cadena RFC3339 a un objeto datetime\n",
    "    fecha_hora = datetime.strptime(fecha_hora_rfc3339, \"%Y-%m-%dT%H:%M:%S.%fZ\")\n",
    "    \n",
    "    # Restar 7 días a la fecha y hora\n",
    "    fecha_hora_menos_siete_dias = fecha_hora - timedelta(days=7)\n",
    "    \n",
    "    # Formatear la nueva fecha y hora en formato RFC3339 con la 'Z'\n",
    "    nueva_fecha_hora_rfc3339 = fecha_hora_menos_siete_dias.strftime(\"%Y-%m-%dT%H:%M:%S.%fZ\")\n",
    "    \n",
    "    return nueva_fecha_hora_rfc3339\n",
    "\n",
    "restar_siete_dias(now_time)\n"
   ]
  },
  {
   "cell_type": "code",
   "execution_count": 67,
   "metadata": {},
   "outputs": [
    {
     "name": "stdout",
     "output_type": "stream",
     "text": [
      "Fecha y hora original: 2024-06-21T01:28:14.265493Z\n",
      "Fecha y hora a las 04:00: 2024-06-21T04:00:00.000000Z\n"
     ]
    }
   ],
   "source": [
    "# Obtener las 04:00 hras de la hora del dia hace 7 dias\n",
    "\n",
    "def obtener_hora_04_00(fecha_hora_rfc3339):\n",
    "    # Convertir la cadena RFC3339 a un objeto datetime\n",
    "    fecha_hora = datetime.strptime(fecha_hora_rfc3339, \"%Y-%m-%dT%H:%M:%S.%fZ\")\n",
    "    \n",
    "    # Crear un nuevo objeto datetime con la hora fijada a las 04:00 del mismo día\n",
    "    fecha_04_00 = fecha_hora.replace(hour=4, minute=0, second=0, microsecond=0)\n",
    "    \n",
    "    # Formatear la nueva fecha y hora en formato RFC3339 con la 'Z'\n",
    "    nueva_fecha_hora_rfc3339 = fecha_04_00.strftime(\"%Y-%m-%dT%H:%M:%S.%fZ\")\n",
    "    \n",
    "    return nueva_fecha_hora_rfc3339\n",
    "\n",
    "# Ejemplo de uso\n",
    "fecha_hora_original = \"2024-06-21T01:28:14.265493Z\"\n",
    "fecha_hora_04_00 = obtener_hora_04_00(fecha_hora_original)\n",
    "print(\"Fecha y hora original:\", fecha_hora_original)\n",
    "print(\"Fecha y hora a las 04:00:\", fecha_hora_04_00)\n",
    "\n"
   ]
  },
  {
   "cell_type": "code",
   "execution_count": 98,
   "metadata": {},
   "outputs": [
    {
     "data": {
      "text/plain": [
       "'2024-06-23T04:00:00.000000Z'"
      ]
     },
     "execution_count": 98,
     "metadata": {},
     "output_type": "execute_result"
    }
   ],
   "source": [
    "# Intento de obtener la fecha de inicio\n",
    "\n",
    "hora_actual_ny = obtener_hora_nueva_york_rfc3339()\n",
    "hace_7_dias = restar_siete_dias(hora_actual_ny)\n",
    "hace_7_dias_4hrs = obtener_hora_04_00(hace_7_dias)\n",
    "hace_7_dias_4hrs #esta es mi hora de inicio"
   ]
  },
  {
   "cell_type": "code",
   "execution_count": null,
   "metadata": {},
   "outputs": [],
   "source": []
  },
  {
   "cell_type": "markdown",
   "metadata": {},
   "source": [
    "Llamada al API y conversion a Dataframe"
   ]
  },
  {
   "cell_type": "code",
   "execution_count": 128,
   "metadata": {},
   "outputs": [],
   "source": [
    "def get_candles (instrument, granularity, starting_date, count):\n",
    "    session = requests.Session()\n",
    "    url = f\"{defs.OANDA_URL}/instruments/{instrument}/candles\"\n",
    "    params = {\n",
    "        'granularity' : granularity,\n",
    "        'price' : \"MBA\",\n",
    "        'from' : starting_date,\n",
    "        'count': count\n",
    "    }\n",
    "    response = session.get(url, params=params, headers=defs.SECURE_HEADER)\n",
    "    candle_data = response.json()\n",
    "    return candle_data\n",
    "\n",
    "\n",
    "def convert_to_df(candle_data):\n",
    "    prices = [\"mid\", \"bid\", \"ask\"]\n",
    "    ohlc = [\"o\", \"h\", \"l\", \"c\"]\n",
    "    our_data = []\n",
    "\n",
    "    for candle in candle_data[\"candles\"]:\n",
    "        if candle[\"complete\"] == False:\n",
    "            continue\n",
    "        new_dict = {}\n",
    "        new_dict[\"time\"] = candle[\"time\"]\n",
    "        new_dict[\"volume\"] = candle[\"volume\"]\n",
    "        for price in prices:\n",
    "            for oh in ohlc:\n",
    "                new_dict[f\"{price}_{oh}\"] = candle[price][oh]\n",
    "        our_data.append(new_dict)\n",
    "    return pd.DataFrame(our_data)\n",
    "\n"
   ]
  },
  {
   "cell_type": "code",
   "execution_count": 129,
   "metadata": {},
   "outputs": [
    {
     "data": {
      "text/html": [
       "<div>\n",
       "<style scoped>\n",
       "    .dataframe tbody tr th:only-of-type {\n",
       "        vertical-align: middle;\n",
       "    }\n",
       "\n",
       "    .dataframe tbody tr th {\n",
       "        vertical-align: top;\n",
       "    }\n",
       "\n",
       "    .dataframe thead th {\n",
       "        text-align: right;\n",
       "    }\n",
       "</style>\n",
       "<table border=\"1\" class=\"dataframe\">\n",
       "  <thead>\n",
       "    <tr style=\"text-align: right;\">\n",
       "      <th></th>\n",
       "      <th>time</th>\n",
       "      <th>volume</th>\n",
       "      <th>mid_o</th>\n",
       "      <th>mid_h</th>\n",
       "      <th>mid_l</th>\n",
       "      <th>mid_c</th>\n",
       "      <th>bid_o</th>\n",
       "      <th>bid_h</th>\n",
       "      <th>bid_l</th>\n",
       "      <th>bid_c</th>\n",
       "      <th>ask_o</th>\n",
       "      <th>ask_h</th>\n",
       "      <th>ask_l</th>\n",
       "      <th>ask_c</th>\n",
       "    </tr>\n",
       "  </thead>\n",
       "  <tbody>\n",
       "    <tr>\n",
       "      <th>0</th>\n",
       "      <td>2024-06-23T21:04:00.000000000Z</td>\n",
       "      <td>1</td>\n",
       "      <td>1.06891</td>\n",
       "      <td>1.06891</td>\n",
       "      <td>1.06891</td>\n",
       "      <td>1.06891</td>\n",
       "      <td>1.06861</td>\n",
       "      <td>1.06861</td>\n",
       "      <td>1.06861</td>\n",
       "      <td>1.06861</td>\n",
       "      <td>1.06921</td>\n",
       "      <td>1.06921</td>\n",
       "      <td>1.06921</td>\n",
       "      <td>1.06921</td>\n",
       "    </tr>\n",
       "    <tr>\n",
       "      <th>1</th>\n",
       "      <td>2024-06-23T21:05:00.000000000Z</td>\n",
       "      <td>10</td>\n",
       "      <td>1.06898</td>\n",
       "      <td>1.06904</td>\n",
       "      <td>1.06896</td>\n",
       "      <td>1.06900</td>\n",
       "      <td>1.06869</td>\n",
       "      <td>1.06881</td>\n",
       "      <td>1.06869</td>\n",
       "      <td>1.06875</td>\n",
       "      <td>1.06926</td>\n",
       "      <td>1.06930</td>\n",
       "      <td>1.06921</td>\n",
       "      <td>1.06926</td>\n",
       "    </tr>\n",
       "    <tr>\n",
       "      <th>2</th>\n",
       "      <td>2024-06-23T21:06:00.000000000Z</td>\n",
       "      <td>12</td>\n",
       "      <td>1.06902</td>\n",
       "      <td>1.06911</td>\n",
       "      <td>1.06901</td>\n",
       "      <td>1.06906</td>\n",
       "      <td>1.06878</td>\n",
       "      <td>1.06890</td>\n",
       "      <td>1.06877</td>\n",
       "      <td>1.06881</td>\n",
       "      <td>1.06926</td>\n",
       "      <td>1.06932</td>\n",
       "      <td>1.06925</td>\n",
       "      <td>1.06932</td>\n",
       "    </tr>\n",
       "    <tr>\n",
       "      <th>3</th>\n",
       "      <td>2024-06-23T21:07:00.000000000Z</td>\n",
       "      <td>26</td>\n",
       "      <td>1.06904</td>\n",
       "      <td>1.06912</td>\n",
       "      <td>1.06903</td>\n",
       "      <td>1.06904</td>\n",
       "      <td>1.06878</td>\n",
       "      <td>1.06891</td>\n",
       "      <td>1.06878</td>\n",
       "      <td>1.06884</td>\n",
       "      <td>1.06931</td>\n",
       "      <td>1.06935</td>\n",
       "      <td>1.06924</td>\n",
       "      <td>1.06925</td>\n",
       "    </tr>\n",
       "    <tr>\n",
       "      <th>4</th>\n",
       "      <td>2024-06-23T21:08:00.000000000Z</td>\n",
       "      <td>19</td>\n",
       "      <td>1.06909</td>\n",
       "      <td>1.06911</td>\n",
       "      <td>1.06902</td>\n",
       "      <td>1.06902</td>\n",
       "      <td>1.06888</td>\n",
       "      <td>1.06890</td>\n",
       "      <td>1.06878</td>\n",
       "      <td>1.06881</td>\n",
       "      <td>1.06930</td>\n",
       "      <td>1.06932</td>\n",
       "      <td>1.06923</td>\n",
       "      <td>1.06924</td>\n",
       "    </tr>\n",
       "    <tr>\n",
       "      <th>...</th>\n",
       "      <td>...</td>\n",
       "      <td>...</td>\n",
       "      <td>...</td>\n",
       "      <td>...</td>\n",
       "      <td>...</td>\n",
       "      <td>...</td>\n",
       "      <td>...</td>\n",
       "      <td>...</td>\n",
       "      <td>...</td>\n",
       "      <td>...</td>\n",
       "      <td>...</td>\n",
       "      <td>...</td>\n",
       "      <td>...</td>\n",
       "      <td>...</td>\n",
       "    </tr>\n",
       "    <tr>\n",
       "      <th>4995</th>\n",
       "      <td>2024-06-27T09:35:00.000000000Z</td>\n",
       "      <td>40</td>\n",
       "      <td>1.06950</td>\n",
       "      <td>1.06959</td>\n",
       "      <td>1.06950</td>\n",
       "      <td>1.06958</td>\n",
       "      <td>1.06943</td>\n",
       "      <td>1.06952</td>\n",
       "      <td>1.06942</td>\n",
       "      <td>1.06951</td>\n",
       "      <td>1.06957</td>\n",
       "      <td>1.06966</td>\n",
       "      <td>1.06957</td>\n",
       "      <td>1.06966</td>\n",
       "    </tr>\n",
       "    <tr>\n",
       "      <th>4996</th>\n",
       "      <td>2024-06-27T09:36:00.000000000Z</td>\n",
       "      <td>55</td>\n",
       "      <td>1.06959</td>\n",
       "      <td>1.06963</td>\n",
       "      <td>1.06954</td>\n",
       "      <td>1.06956</td>\n",
       "      <td>1.06952</td>\n",
       "      <td>1.06956</td>\n",
       "      <td>1.06947</td>\n",
       "      <td>1.06949</td>\n",
       "      <td>1.06966</td>\n",
       "      <td>1.06970</td>\n",
       "      <td>1.06961</td>\n",
       "      <td>1.06963</td>\n",
       "    </tr>\n",
       "    <tr>\n",
       "      <th>4997</th>\n",
       "      <td>2024-06-27T09:37:00.000000000Z</td>\n",
       "      <td>18</td>\n",
       "      <td>1.06955</td>\n",
       "      <td>1.06956</td>\n",
       "      <td>1.06950</td>\n",
       "      <td>1.06952</td>\n",
       "      <td>1.06948</td>\n",
       "      <td>1.06949</td>\n",
       "      <td>1.06943</td>\n",
       "      <td>1.06945</td>\n",
       "      <td>1.06962</td>\n",
       "      <td>1.06963</td>\n",
       "      <td>1.06957</td>\n",
       "      <td>1.06960</td>\n",
       "    </tr>\n",
       "    <tr>\n",
       "      <th>4998</th>\n",
       "      <td>2024-06-27T09:38:00.000000000Z</td>\n",
       "      <td>55</td>\n",
       "      <td>1.06954</td>\n",
       "      <td>1.06966</td>\n",
       "      <td>1.06943</td>\n",
       "      <td>1.06965</td>\n",
       "      <td>1.06946</td>\n",
       "      <td>1.06958</td>\n",
       "      <td>1.06936</td>\n",
       "      <td>1.06958</td>\n",
       "      <td>1.06962</td>\n",
       "      <td>1.06973</td>\n",
       "      <td>1.06950</td>\n",
       "      <td>1.06972</td>\n",
       "    </tr>\n",
       "    <tr>\n",
       "      <th>4999</th>\n",
       "      <td>2024-06-27T09:39:00.000000000Z</td>\n",
       "      <td>45</td>\n",
       "      <td>1.06966</td>\n",
       "      <td>1.06970</td>\n",
       "      <td>1.06958</td>\n",
       "      <td>1.06964</td>\n",
       "      <td>1.06958</td>\n",
       "      <td>1.06963</td>\n",
       "      <td>1.06951</td>\n",
       "      <td>1.06957</td>\n",
       "      <td>1.06973</td>\n",
       "      <td>1.06978</td>\n",
       "      <td>1.06965</td>\n",
       "      <td>1.06972</td>\n",
       "    </tr>\n",
       "  </tbody>\n",
       "</table>\n",
       "<p>5000 rows × 14 columns</p>\n",
       "</div>"
      ],
      "text/plain": [
       "                                time  volume    mid_o    mid_h    mid_l  \\\n",
       "0     2024-06-23T21:04:00.000000000Z       1  1.06891  1.06891  1.06891   \n",
       "1     2024-06-23T21:05:00.000000000Z      10  1.06898  1.06904  1.06896   \n",
       "2     2024-06-23T21:06:00.000000000Z      12  1.06902  1.06911  1.06901   \n",
       "3     2024-06-23T21:07:00.000000000Z      26  1.06904  1.06912  1.06903   \n",
       "4     2024-06-23T21:08:00.000000000Z      19  1.06909  1.06911  1.06902   \n",
       "...                              ...     ...      ...      ...      ...   \n",
       "4995  2024-06-27T09:35:00.000000000Z      40  1.06950  1.06959  1.06950   \n",
       "4996  2024-06-27T09:36:00.000000000Z      55  1.06959  1.06963  1.06954   \n",
       "4997  2024-06-27T09:37:00.000000000Z      18  1.06955  1.06956  1.06950   \n",
       "4998  2024-06-27T09:38:00.000000000Z      55  1.06954  1.06966  1.06943   \n",
       "4999  2024-06-27T09:39:00.000000000Z      45  1.06966  1.06970  1.06958   \n",
       "\n",
       "        mid_c    bid_o    bid_h    bid_l    bid_c    ask_o    ask_h    ask_l  \\\n",
       "0     1.06891  1.06861  1.06861  1.06861  1.06861  1.06921  1.06921  1.06921   \n",
       "1     1.06900  1.06869  1.06881  1.06869  1.06875  1.06926  1.06930  1.06921   \n",
       "2     1.06906  1.06878  1.06890  1.06877  1.06881  1.06926  1.06932  1.06925   \n",
       "3     1.06904  1.06878  1.06891  1.06878  1.06884  1.06931  1.06935  1.06924   \n",
       "4     1.06902  1.06888  1.06890  1.06878  1.06881  1.06930  1.06932  1.06923   \n",
       "...       ...      ...      ...      ...      ...      ...      ...      ...   \n",
       "4995  1.06958  1.06943  1.06952  1.06942  1.06951  1.06957  1.06966  1.06957   \n",
       "4996  1.06956  1.06952  1.06956  1.06947  1.06949  1.06966  1.06970  1.06961   \n",
       "4997  1.06952  1.06948  1.06949  1.06943  1.06945  1.06962  1.06963  1.06957   \n",
       "4998  1.06965  1.06946  1.06958  1.06936  1.06958  1.06962  1.06973  1.06950   \n",
       "4999  1.06964  1.06958  1.06963  1.06951  1.06957  1.06973  1.06978  1.06965   \n",
       "\n",
       "        ask_c  \n",
       "0     1.06921  \n",
       "1     1.06926  \n",
       "2     1.06932  \n",
       "3     1.06925  \n",
       "4     1.06924  \n",
       "...       ...  \n",
       "4995  1.06966  \n",
       "4996  1.06963  \n",
       "4997  1.06960  \n",
       "4998  1.06972  \n",
       "4999  1.06972  \n",
       "\n",
       "[5000 rows x 14 columns]"
      ]
     },
     "execution_count": 129,
     "metadata": {},
     "output_type": "execute_result"
    }
   ],
   "source": [
    "# PRUEBO LA FUNCION\n",
    "instrument = \"EUR_USD\"\n",
    "granularity = \"M1\"\n",
    "starting_date = hace_7_dias_4hrs\n",
    "\n",
    "gg = get_candles(instrument, granularity, starting_date, 5000)\n",
    "convert_to_df(gg)"
   ]
  },
  {
   "cell_type": "markdown",
   "metadata": {},
   "source": [
    "### Logica de Iteracion para obtencion de datos consecutiva del API"
   ]
  },
  {
   "cell_type": "code",
   "execution_count": 130,
   "metadata": {},
   "outputs": [],
   "source": [
    "#Funcion para obtener la ultima vela del df anterior\n",
    "def last_candle(candles_df):\n",
    "    last_candle = candles_df.tail(1)['time']\n",
    "    return last_candle\n"
   ]
  },
  {
   "cell_type": "code",
   "execution_count": null,
   "metadata": {},
   "outputs": [],
   "source": []
  },
  {
   "cell_type": "markdown",
   "metadata": {},
   "source": []
  },
  {
   "cell_type": "code",
   "execution_count": null,
   "metadata": {},
   "outputs": [],
   "source": []
  },
  {
   "cell_type": "code",
   "execution_count": null,
   "metadata": {},
   "outputs": [],
   "source": []
  },
  {
   "cell_type": "code",
   "execution_count": null,
   "metadata": {},
   "outputs": [],
   "source": []
  },
  {
   "cell_type": "code",
   "execution_count": null,
   "metadata": {},
   "outputs": [],
   "source": []
  },
  {
   "cell_type": "code",
   "execution_count": null,
   "metadata": {},
   "outputs": [],
   "source": []
  },
  {
   "cell_type": "code",
   "execution_count": null,
   "metadata": {},
   "outputs": [],
   "source": []
  },
  {
   "cell_type": "code",
   "execution_count": null,
   "metadata": {},
   "outputs": [],
   "source": []
  },
  {
   "cell_type": "code",
   "execution_count": null,
   "metadata": {},
   "outputs": [],
   "source": []
  },
  {
   "cell_type": "code",
   "execution_count": null,
   "metadata": {},
   "outputs": [],
   "source": []
  },
  {
   "cell_type": "markdown",
   "metadata": {},
   "source": [
    "# UTILIDADES A NECESITAR LUEGO"
   ]
  },
  {
   "cell_type": "code",
   "execution_count": 40,
   "metadata": {},
   "outputs": [
    {
     "name": "stdout",
     "output_type": "stream",
     "text": [
      "DataFrame original:\n",
      "   Nombre  Edad     Ciudad\n",
      "0     Ana    23     Madrid\n",
      "1    Luis    34  Barcelona\n",
      "2     Ana    23     Madrid\n",
      "3  Carlos    45   Valencia\n",
      "4    Luis    34  Barcelona\n",
      "\n",
      "DataFrame sin duplicados:\n",
      "   Nombre  Edad     Ciudad\n",
      "0     Ana    23     Madrid\n",
      "1    Luis    34  Barcelona\n",
      "3  Carlos    45   Valencia\n"
     ]
    }
   ],
   "source": [
    "#Como eliminar el duplicado, hacer luego de juntar los dataframes\n",
    "import pandas as pd\n",
    "\n",
    "# Crear un DataFrame de ejemplo\n",
    "data = {'Nombre': ['Ana', 'Luis', 'Ana', 'Carlos', 'Luis'],\n",
    "        'Edad': [23, 34, 23, 45, 34],\n",
    "        'Ciudad': ['Madrid', 'Barcelona', 'Madrid', 'Valencia', 'Barcelona']}\n",
    "\n",
    "df = pd.DataFrame(data)\n",
    "\n",
    "# Mostrar el DataFrame original\n",
    "print(\"DataFrame original:\")\n",
    "print(df)\n",
    "\n",
    "# Eliminar filas duplicadas\n",
    "df_sin_duplicados = df.drop_duplicates()\n",
    "\n",
    "# Mostrar el DataFrame sin duplicados\n",
    "print(\"\\nDataFrame sin duplicados:\")\n",
    "print(df_sin_duplicados)"
   ]
  },
  {
   "cell_type": "code",
   "execution_count": null,
   "metadata": {},
   "outputs": [],
   "source": []
  },
  {
   "cell_type": "code",
   "execution_count": null,
   "metadata": {},
   "outputs": [],
   "source": []
  }
 ],
 "metadata": {
  "kernelspec": {
   "display_name": "Python 3",
   "language": "python",
   "name": "python3"
  },
  "language_info": {
   "codemirror_mode": {
    "name": "ipython",
    "version": 3
   },
   "file_extension": ".py",
   "mimetype": "text/x-python",
   "name": "python",
   "nbconvert_exporter": "python",
   "pygments_lexer": "ipython3",
   "version": "3.9.6"
  }
 },
 "nbformat": 4,
 "nbformat_minor": 2
}
