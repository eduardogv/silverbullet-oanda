{
 "cells": [
  {
   "cell_type": "code",
   "execution_count": 11,
   "metadata": {},
   "outputs": [],
   "source": [
    "import requests\n",
    "import pandas as pd\n",
    "import defs\n",
    "from datetime import datetime\n",
    "import pytz"
   ]
  },
  {
   "cell_type": "markdown",
   "metadata": {},
   "source": [
    "Debo obtener la data de ESTA semana. Parametros en RFC3339.  \n",
    "Considerando que solo obtengo 500 velas por llamada de la API y que cada dia tengo 1440 velasde M1, tengo que hacer 3 llamadas de la API por cada dia de la semana.\n",
    "- Inicio: 2024-06-24T04:00:00.000000000Z  #hora de NY UTC-4 para esta semana\n",
    "- Inicio: 2024-06-24T04:00:00.000000000Z  \n",
    "\n",
    "Notar que en RFC339, la variable Z se usa para indicar que es UTC+0, por lo que la usare siempre (https://medium.easyread.co/understanding-about-rfc-3339-for-datetime-formatting-in-software-engineering-940aa5d5f68a).  \n"
   ]
  },
  {
   "cell_type": "code",
   "execution_count": 23,
   "metadata": {},
   "outputs": [
    {
     "data": {
      "text/plain": [
       "datetime.datetime(2024, 6, 25, 3, 26, 36, 179557, tzinfo=<DstTzInfo 'America/New_York' EDT-1 day, 20:00:00 DST>)"
      ]
     },
     "execution_count": 23,
     "metadata": {},
     "output_type": "execute_result"
    }
   ],
   "source": [
    "# Definir la zona horaria de Nueva York\n",
    "ny_timezone = pytz.timezone('America/New_York')\n",
    "\n",
    "# Obtener la fecha y hora actual en la zona horaria de Nueva York\n",
    "time_ny = datetime.now(ny_timezone)\n",
    "time_ny"
   ]
  },
  {
   "cell_type": "code",
   "execution_count": 51,
   "metadata": {},
   "outputs": [
    {
     "name": "stdout",
     "output_type": "stream",
     "text": [
      "Hora actual en Nueva York (RFC3339): 2024-06-25T03:39:38-0400Z\n"
     ]
    }
   ],
   "source": [
    "import pytz\n",
    "from datetime import datetime\n",
    "\n",
    "def ny_time_rfc3339():\n",
    "    # Definir la zona horaria de Nueva York\n",
    "    zona_horaria_ny = pytz.timezone('America/New_York')\n",
    "\n",
    "    # Obtener la fecha y hora actual en la zona horaria de Nueva York\n",
    "    ahora_ny = datetime.now(zona_horaria_ny)\n",
    "\n",
    "    # Formatear la fecha y hora en formato RFC3339\n",
    "    hora_rfc3339 = ahora_ny.strftime(\"%Y-%m-%dT%H:%M:%S%z\")\n",
    "\n",
    "    return hora_rfc3339\n",
    "\n",
    "# Ejemplo de uso\n",
    "hora_actual_ny = ny_time_rfc3339()\n",
    "print(\"Hora actual en Nueva York (RFC3339):\", hora_actual_ny+\"Z\")"
   ]
  },
  {
   "cell_type": "code",
   "execution_count": null,
   "metadata": {},
   "outputs": [],
   "source": []
  },
  {
   "cell_type": "code",
   "execution_count": null,
   "metadata": {},
   "outputs": [],
   "source": []
  },
  {
   "cell_type": "code",
   "execution_count": 52,
   "metadata": {},
   "outputs": [
    {
     "name": "stdout",
     "output_type": "stream",
     "text": [
      "Hora actual en Nueva York: 2024-06-25T04:41:02.469572Z\n"
     ]
    }
   ],
   "source": [
    "import pytz\n",
    "from datetime import datetime\n",
    "\n",
    "def obtener_hora_nueva_york_rfc3339():\n",
    "    # Definir la zona horaria de Nueva York\n",
    "    zona_horaria_ny = pytz.timezone('America/New_York')\n",
    "\n",
    "    # Obtener la fecha y hora actual en la zona horaria de Nueva York\n",
    "    ahora_ny = datetime.now(zona_horaria_ny)\n",
    "\n",
    "    # Formatear la fecha y hora en el formato deseado\n",
    "    hora_formateada = ahora_ny.strftime(\"%Y-%m-%dT%H:%M:%S.%fZ\")\n",
    "\n",
    "    return hora_formateada\n",
    "\n",
    "# Ejemplo de uso\n",
    "hora_actual_ny = obtener_hora_nueva_york_rfc3339()\n",
    "print(\"Hora actual en Nueva York:\", hora_actual_ny)\n"
   ]
  },
  {
   "cell_type": "code",
   "execution_count": null,
   "metadata": {},
   "outputs": [],
   "source": []
  },
  {
   "cell_type": "code",
   "execution_count": null,
   "metadata": {},
   "outputs": [],
   "source": []
  },
  {
   "cell_type": "code",
   "execution_count": null,
   "metadata": {},
   "outputs": [],
   "source": []
  },
  {
   "cell_type": "code",
   "execution_count": null,
   "metadata": {},
   "outputs": [],
   "source": []
  },
  {
   "cell_type": "code",
   "execution_count": null,
   "metadata": {},
   "outputs": [],
   "source": []
  }
 ],
 "metadata": {
  "kernelspec": {
   "display_name": "Python 3",
   "language": "python",
   "name": "python3"
  },
  "language_info": {
   "codemirror_mode": {
    "name": "ipython",
    "version": 3
   },
   "file_extension": ".py",
   "mimetype": "text/x-python",
   "name": "python",
   "nbconvert_exporter": "python",
   "pygments_lexer": "ipython3",
   "version": "3.9.6"
  }
 },
 "nbformat": 4,
 "nbformat_minor": 2
}
